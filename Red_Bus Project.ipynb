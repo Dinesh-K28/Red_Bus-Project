{
 "cells": [
  {
   "cell_type": "code",
   "execution_count": 11,
   "id": "d33b1251-6874-4e61-9a13-05fadc5f8676",
   "metadata": {},
   "outputs": [
    {
     "name": "stdout",
     "output_type": "stream",
     "text": [
      "Requirement already satisfied: selenium in c:\\users\\dinesh k\\anaconda3\\lib\\site-packages (4.27.1)\n",
      "Requirement already satisfied: urllib3<3,>=1.26 in c:\\users\\dinesh k\\anaconda3\\lib\\site-packages (from urllib3[socks]<3,>=1.26->selenium) (2.2.2)\n",
      "Requirement already satisfied: trio~=0.17 in c:\\users\\dinesh k\\anaconda3\\lib\\site-packages (from selenium) (0.28.0)\n",
      "Requirement already satisfied: trio-websocket~=0.9 in c:\\users\\dinesh k\\anaconda3\\lib\\site-packages (from selenium) (0.11.1)\n",
      "Requirement already satisfied: certifi>=2021.10.8 in c:\\users\\dinesh k\\anaconda3\\lib\\site-packages (from selenium) (2024.6.2)\n",
      "Requirement already satisfied: typing_extensions~=4.9 in c:\\users\\dinesh k\\anaconda3\\lib\\site-packages (from selenium) (4.11.0)\n",
      "Requirement already satisfied: websocket-client~=1.8 in c:\\users\\dinesh k\\anaconda3\\lib\\site-packages (from selenium) (1.8.0)\n",
      "Requirement already satisfied: attrs>=23.2.0 in c:\\users\\dinesh k\\anaconda3\\lib\\site-packages (from trio~=0.17->selenium) (24.3.0)\n",
      "Requirement already satisfied: sortedcontainers in c:\\users\\dinesh k\\anaconda3\\lib\\site-packages (from trio~=0.17->selenium) (2.4.0)\n",
      "Requirement already satisfied: idna in c:\\users\\dinesh k\\anaconda3\\lib\\site-packages (from trio~=0.17->selenium) (3.7)\n",
      "Requirement already satisfied: outcome in c:\\users\\dinesh k\\anaconda3\\lib\\site-packages (from trio~=0.17->selenium) (1.3.0.post0)\n",
      "Requirement already satisfied: sniffio>=1.3.0 in c:\\users\\dinesh k\\anaconda3\\lib\\site-packages (from trio~=0.17->selenium) (1.3.0)\n",
      "Requirement already satisfied: cffi>=1.14 in c:\\users\\dinesh k\\anaconda3\\lib\\site-packages (from trio~=0.17->selenium) (1.16.0)\n",
      "Requirement already satisfied: wsproto>=0.14 in c:\\users\\dinesh k\\anaconda3\\lib\\site-packages (from trio-websocket~=0.9->selenium) (1.2.0)\n",
      "Requirement already satisfied: pysocks!=1.5.7,<2.0,>=1.5.6 in c:\\users\\dinesh k\\anaconda3\\lib\\site-packages (from urllib3[socks]<3,>=1.26->selenium) (1.7.1)\n",
      "Requirement already satisfied: pycparser in c:\\users\\dinesh k\\anaconda3\\lib\\site-packages (from cffi>=1.14->trio~=0.17->selenium) (2.21)\n",
      "Requirement already satisfied: h11<1,>=0.9.0 in c:\\users\\dinesh k\\anaconda3\\lib\\site-packages (from wsproto>=0.14->trio-websocket~=0.9->selenium) (0.14.0)\n"
     ]
    }
   ],
   "source": [
    "!pip install selenium"
   ]
  },
  {
   "cell_type": "code",
   "execution_count": 12,
   "id": "13d1d0fa-d05d-4ee0-b5f5-f55bd4ba0cd1",
   "metadata": {},
   "outputs": [],
   "source": [
    "from selenium import webdriver\n",
    "from selenium.webdriver.common.keys import Keys\n",
    "from selenium.webdriver.common.by import By\n",
    "import time\n",
    "import pandas as pd\n",
    "from selenium.webdriver.support.ui import WebDriverWait\n",
    "from selenium.webdriver.support import expected_conditions as EC\n",
    "from selenium.common.exceptions import StaleElementReferenceException\n",
    "from selenium.webdriver.common.action_chains import ActionChains\n",
    "from selenium.common.exceptions import TimeoutException\n",
    "from selenium.common.exceptions import NoSuchElementException\n",
    "from selenium.common.exceptions import NoSuchWindowException\n",
    "from selenium.common.exceptions import ElementClickInterceptedException\n",
    "import numpy as np\n",
    "import streamlit as st"
   ]
  },
  {
   "cell_type": "code",
   "execution_count": 1,
   "id": "abdf148c-5bbb-4511-ae84-4305c97cc59a",
   "metadata": {},
   "outputs": [
    {
     "name": "stdout",
     "output_type": "stream",
     "text": [
      "Requirement already satisfied: pymysql in c:\\users\\dinesh k\\anaconda3\\lib\\site-packages (1.1.1)\n"
     ]
    }
   ],
   "source": [
    "!pip install pymysql"
   ]
  },
  {
   "cell_type": "code",
   "execution_count": 13,
   "id": "ccda5fc7-ab53-46f8-b496-304aeb414fd5",
   "metadata": {},
   "outputs": [],
   "source": [
    "#10 states links\n",
    "state_links=[\"https://www.redbus.in/online-booking/apsrtc/?utm_source=rtchometile\",\n",
    "             \"https://www.redbus.in/online-booking/ksrtc-kerala/?utm_source=rtchometile\",\n",
    "             \"https://www.redbus.in/online-booking/ktcl/?utm_source=rtchometile\",\n",
    "             \"https://www.redbus.in/online-booking/wbtc-ctc/?utm_source=rtchometile\",\n",
    "             \"https://www.redbus.in/online-booking/south-bengal-state-transport-corporation-sbstc/?utm_source=rtchometile\",\n",
    "             \"https://www.redbus.in/online-booking/rsrtc/?utm_source=rtchometile\",\n",
    "             \"https://www.redbus.in/online-booking/tsrtc/?utm_source=rtchometile\",\n",
    "             \"https://www.redbus.in/online-booking/hrtc/?utm_source=rtchometile\",\n",
    "             \"https://www.redbus.in/online-booking/uttar-pradesh-state-road-transport-corporation-upsrtc/?utm_source=rtchometile\",\n",
    "             \"https://www.redbus.in/online-booking/jksrtc\"\n",
    "]"
   ]
  },
  {
   "cell_type": "code",
   "execution_count": 14,
   "id": "ba160c50-a6c7-4fe3-8da8-989c3c32ea0b",
   "metadata": {},
   "outputs": [],
   "source": [
    "driver = webdriver.Chrome()\n",
    "driver.get(\"https://www.redbus.in/online-booking/apsrtc/?utm_source=rtchometile\");\n",
    "\n",
    "time.sleep(5)\n",
    "\n",
    "driver.maximize_window()"
   ]
  },
  {
   "cell_type": "code",
   "execution_count": 15,
   "id": "9b2927c6-f238-465e-845a-a5e17980f63c",
   "metadata": {},
   "outputs": [],
   "source": [
    "def route_link_name(path):\n",
    "    route_names = []\n",
    "    route_links = []\n",
    "    wait = WebDriverWait(driver, 20)\n",
    "    for page in range(1, 6):  # Looping through 5 pages\n",
    "\n",
    "        # Find all <a> elements inside the <div class=\"route_details\"> having link and Name\n",
    "        apsrtc_link_elements = driver.find_elements(By.CSS_SELECTOR, path)\n",
    "\n",
    "        #retrieve route links and name from the links\n",
    "        for link in apsrtc_link_elements:\n",
    "            href_value = link.get_attribute(\"href\")\n",
    "            link_text = link.text\n",
    "            route_links.append(href_value)\n",
    "            route_names.append(link_text)\n",
    "            print(f\"Link: {href_value}, Name: {link_text}\")\n",
    "        \n",
    "        #navigate to next page with all the buttons clicked\n",
    "        try:\n",
    "            pagination = wait.until(EC.presence_of_element_located((By.XPATH, '//*[@class=\"DC_117_paginationTable\"]')))\n",
    "            next_page = driver.find_element(By.XPATH, f\"//*[@id='root']/div/div[4]/div[12]/div[{page+1}]\")\n",
    "            time.sleep(2)\n",
    "            next_page.click()\n",
    "        except:\n",
    "            print(\"No more pages to scroll\")\n",
    "            break\n",
    "    return route_names,route_links"
   ]
  },
  {
   "cell_type": "code",
   "execution_count": 16,
   "id": "4ad5fc75-59f5-4a11-8f9e-d34f34618d32",
   "metadata": {},
   "outputs": [
    {
     "name": "stdout",
     "output_type": "stream",
     "text": [
      "Link: https://www.redbus.in/bus-tickets/hyderabad-to-vijayawada, Name: Hyderabad to Vijayawada\n",
      "Link: https://www.redbus.in/bus-tickets/vijayawada-to-hyderabad, Name: Vijayawada to Hyderabad\n",
      "Link: https://www.redbus.in/bus-tickets/bangalore-to-tirupathi, Name: Bangalore to Tirupati\n",
      "Link: https://www.redbus.in/bus-tickets/bangalore-to-kadapa, Name: Bangalore to Kadapa\n",
      "Link: https://www.redbus.in/bus-tickets/kakinada-to-visakhapatnam, Name: Kakinada to Visakhapatnam\n",
      "Link: https://www.redbus.in/bus-tickets/hyderabad-to-ongole, Name: Hyderabad to Ongole\n",
      "Link: https://www.redbus.in/bus-tickets/ongole-to-hyderabad, Name: Ongole to Hyderabad\n",
      "Link: https://www.redbus.in/bus-tickets/bangalore-to-ananthapur, Name: Bangalore to Anantapur (andhra pradesh)\n",
      "Link: https://www.redbus.in/bus-tickets/bangalore-to-chittoor-andhra-pradesh, Name: Bangalore to Chittoor (Andhra Pradesh)\n",
      "Link: https://www.redbus.in/bus-tickets/chittoor-andhra-pradesh-to-bangalore, Name: Chittoor (Andhra Pradesh) to Bangalore\n",
      "No more pages to scroll\n"
     ]
    }
   ],
   "source": [
    "path = \"div.route_details a.route\"\n",
    "Route_Names,Route_links = route_link_name(path)"
   ]
  },
  {
   "cell_type": "code",
   "execution_count": 17,
   "id": "c56e308f-e4ab-469b-ae7d-0daaa95193a2",
   "metadata": {},
   "outputs": [
    {
     "data": {
      "text/plain": [
       "(10, 2)"
      ]
     },
     "execution_count": 17,
     "metadata": {},
     "output_type": "execute_result"
    }
   ],
   "source": [
    "dict = {'Route_name':Route_Names, 'Route_link':Route_links}\n",
    "df = pd.DataFrame(dict)\n",
    "# df.to_csv(\"andhra_route_details.csv\")\n",
    "df.shape"
   ]
  },
  {
   "cell_type": "code",
   "execution_count": 18,
   "id": "122a4e40-979f-4ba5-8afa-886f6e5ae7a5",
   "metadata": {},
   "outputs": [],
   "source": [
    "def scrolling_a():\n",
    "    scrolling = True\n",
    "    while scrolling:\n",
    "        old_page_source = driver_a.page_source\n",
    "        driver_a.execute_script(\"window.scrollTo(0, document.body.scrollHeight);\")\n",
    "        time.sleep(5)\n",
    "        new_page_source = driver_a.page_source\n",
    "        if new_page_source == old_page_source:\n",
    "            scrolling = False"
   ]
  },
  {
   "cell_type": "code",
   "execution_count": 19,
   "id": "1f4e6ff1-4541-478c-ab15-7990dabe1396",
   "metadata": {},
   "outputs": [
    {
     "name": "stdout",
     "output_type": "stream",
     "text": [
      "Button not found, continuing with scraping...\n",
      "Successfully scraped using Selenium\n"
     ]
    }
   ],
   "source": [
    "driver_a = webdriver.Chrome()\n",
    "Route_name=[]\n",
    "Route_link=[]\n",
    "Bus_name=[]\n",
    "Bus_type=[]\n",
    "Depature_time =[]\n",
    "Duration=[]\n",
    "Reaching_time=[]\n",
    "Rating=[]\n",
    "Price=[]\n",
    "Seat_Availability=[]\n",
    "wait = WebDriverWait(driver_a, 30)\n",
    "\n",
    "for ind,val in df.iterrows():\n",
    "    route_name = val['Route_name']\n",
    "    route_link = val['Route_link']\n",
    "    \n",
    "    driver_a.get(route_link)\n",
    "    time.sleep(2)\n",
    "    \n",
    "    route_links = driver_a.find_elements(By.CSS_SELECTOR, \"div.route_details a.route\")\n",
    "    \n",
    "    for link in route_links:\n",
    "        link.click()\n",
    "        time.sleep(2)\n",
    "        \n",
    "    try:\n",
    "        button = wait.until(EC.element_to_be_clickable((By.XPATH, \"//div[@class='button']\")))\n",
    "        button.click()\n",
    "    except (NoSuchElementException, TimeoutException, NoSuchWindowException):\n",
    "        print(\"Button not found, continuing with scraping...\")\n",
    "        \n",
    "    time.sleep(4)\n",
    "\n",
    "    scrolling_a()\n",
    "\n",
    "    bus_name = driver_a.find_elements(By.XPATH, \"//div[@class='travels lh-24 f-bold d-color']\")\n",
    "    bus_type = driver_a.find_elements(By.XPATH, \"//div[@class='bus-type f-12 m-top-16 l-color evBus']\")\n",
    "    dept_time = driver_a.find_elements(By.XPATH, \"//div[@class='dp-time f-19 d-color f-bold']\")\n",
    "    dur = driver_a.find_elements(By.XPATH, \"//div[@class='dur l-color lh-24']\")\n",
    "    rea_time = driver_a.find_elements(By.XPATH, \"//div[@class='bp-time f-19 d-color disp-Inline']\")\n",
    "    try:\n",
    "        rate=driver_a.find_elements(By.XPATH,\"//div[@class='clearfix row-one']/div[@class='column-six p-right-10 w-10 fl']\")\n",
    "    except:\n",
    "        continue\n",
    "    price = driver_a.find_elements(By.XPATH, \"//div[@class='fare d-block']\")\n",
    "    seat_ava = driver_a.find_elements(By.XPATH, \"//div[contains(@class, 'seat-left')]\")\n",
    "\n",
    "\n",
    "    for name in bus_name:\n",
    "        Route_name.append(route_name)\n",
    "        Route_link.append(route_link)\n",
    "        Bus_name.append(name.text)\n",
    "    for ty in bus_type:\n",
    "        Bus_type.append(ty.text)\n",
    "    for dt in dept_time:\n",
    "        Depature_time.append(dt.text)\n",
    "    for d in dur:\n",
    "        Duration.append(d.text)\n",
    "    for rea in rea_time:\n",
    "        Reaching_time.append(rea.text)\n",
    "    for r in rate:\n",
    "        Rating.append(r.text.split(\"\\n\")[0])\n",
    "    for p in price:\n",
    "        Price.append(p.text)\n",
    "    for seat in seat_ava:\n",
    "        Seat_Availability.append(seat.text)\n",
    "print(\"Successfully scraped using Selenium\")"
   ]
  },
  {
   "cell_type": "code",
   "execution_count": 20,
   "id": "5457c1ae-f2a6-4e49-bf6c-2dbd804b6646",
   "metadata": {},
   "outputs": [
    {
     "name": "stdout",
     "output_type": "stream",
     "text": [
      "85 85 85 85 85 85 85 0 85 85\n"
     ]
    }
   ],
   "source": [
    "print(len(Route_name),len(Route_link),len(Bus_name),len(Bus_type),len(Depature_time),len(Duration),len(Reaching_time),len(Rating),len(Price),len(Seat_Availability))"
   ]
  },
  {
   "cell_type": "code",
   "execution_count": 24,
   "id": "e5a2c101-26e3-4b04-ab0c-7ac86c10805a",
   "metadata": {},
   "outputs": [],
   "source": [
    "dict = {'Route_name': ['Goa Express', 'Andhra Express'], \n",
    "        'Route_link': ['http://goaexpress.com', 'http://andhraexpress.com'],\n",
    "        'Bus_name': ['Luxury Bus', 'Economy Bus'],\n",
    "        'Bus_type': ['AC', 'Non-AC'],\n",
    "        'Depature_time': ['10:00 AM', '11:00 AM'],\n",
    "        'Duration': ['8 hours', '7 hours'],\n",
    "        'Reaching_time': ['6:00 PM', '6:00 PM'],\n",
    "        'Rating': [4.5, 4.0],\n",
    "        'Price': [1200, 900],\n",
    "        'Seat_Available': [30, 20]}\n"
   ]
  },
  {
   "cell_type": "code",
   "execution_count": 25,
   "id": "c1da274c-cfbd-4816-97d9-1d2e62c7e27e",
   "metadata": {},
   "outputs": [
    {
     "data": {
      "text/html": [
       "<div>\n",
       "<style scoped>\n",
       "    .dataframe tbody tr th:only-of-type {\n",
       "        vertical-align: middle;\n",
       "    }\n",
       "\n",
       "    .dataframe tbody tr th {\n",
       "        vertical-align: top;\n",
       "    }\n",
       "\n",
       "    .dataframe thead th {\n",
       "        text-align: right;\n",
       "    }\n",
       "</style>\n",
       "<table border=\"1\" class=\"dataframe\">\n",
       "  <thead>\n",
       "    <tr style=\"text-align: right;\">\n",
       "      <th></th>\n",
       "      <th>Route_name</th>\n",
       "      <th>Route_link</th>\n",
       "      <th>Bus_name</th>\n",
       "      <th>Bus_type</th>\n",
       "      <th>Depature_time</th>\n",
       "      <th>Duration</th>\n",
       "      <th>Reaching_time</th>\n",
       "      <th>Rating</th>\n",
       "      <th>Price</th>\n",
       "      <th>Seat_Available</th>\n",
       "    </tr>\n",
       "  </thead>\n",
       "  <tbody>\n",
       "    <tr>\n",
       "      <th>0</th>\n",
       "      <td>Goa Express</td>\n",
       "      <td>http://goaexpress.com</td>\n",
       "      <td>Luxury Bus</td>\n",
       "      <td>AC</td>\n",
       "      <td>10:00 AM</td>\n",
       "      <td>8 hours</td>\n",
       "      <td>6:00 PM</td>\n",
       "      <td>4.5</td>\n",
       "      <td>1200</td>\n",
       "      <td>30</td>\n",
       "    </tr>\n",
       "  </tbody>\n",
       "</table>\n",
       "</div>"
      ],
      "text/plain": [
       "    Route_name             Route_link    Bus_name Bus_type Depature_time  \\\n",
       "0  Goa Express  http://goaexpress.com  Luxury Bus       AC      10:00 AM   \n",
       "\n",
       "  Duration Reaching_time  Rating  Price  Seat_Available  \n",
       "0  8 hours       6:00 PM     4.5   1200              30  "
      ]
     },
     "execution_count": 25,
     "metadata": {},
     "output_type": "execute_result"
    }
   ],
   "source": [
    "# Define your data dictionary\n",
    "dict = {'Route_name': 'Goa Express', 'Route_link': 'http://goaexpress.com', 'Bus_name': 'Luxury Bus',\n",
    "        'Bus_type': 'AC', 'Depature_time': '10:00 AM', 'Duration': '8 hours', 'Reaching_time': '6:00 PM',\n",
    "        'Rating': 4.5, 'Price': 1200, 'Seat_Available': 30}\n",
    "\n",
    "# Create DataFrame from the dictionary\n",
    "import pandas as pd\n",
    "df_andhra = pd.DataFrame([dict])\n",
    "\n",
    "# Display the DataFrame\n",
    "df_andhra\n"
   ]
  },
  {
   "cell_type": "code",
   "execution_count": 26,
   "id": "0cf34bb0-22a7-447d-8a5c-e3b2a344cff6",
   "metadata": {},
   "outputs": [
    {
     "data": {
      "text/html": [
       "<div>\n",
       "<style scoped>\n",
       "    .dataframe tbody tr th:only-of-type {\n",
       "        vertical-align: middle;\n",
       "    }\n",
       "\n",
       "    .dataframe tbody tr th {\n",
       "        vertical-align: top;\n",
       "    }\n",
       "\n",
       "    .dataframe thead th {\n",
       "        text-align: right;\n",
       "    }\n",
       "</style>\n",
       "<table border=\"1\" class=\"dataframe\">\n",
       "  <thead>\n",
       "    <tr style=\"text-align: right;\">\n",
       "      <th></th>\n",
       "      <th>Route_name</th>\n",
       "      <th>Route_link</th>\n",
       "      <th>Bus_name</th>\n",
       "      <th>Bus_type</th>\n",
       "      <th>Depature_time</th>\n",
       "      <th>Duration</th>\n",
       "      <th>Reaching_time</th>\n",
       "      <th>Rating</th>\n",
       "      <th>Price</th>\n",
       "      <th>Seat_Available</th>\n",
       "    </tr>\n",
       "  </thead>\n",
       "  <tbody>\n",
       "  </tbody>\n",
       "</table>\n",
       "</div>"
      ],
      "text/plain": [
       "Empty DataFrame\n",
       "Columns: [Route_name, Route_link, Bus_name, Bus_type, Depature_time, Duration, Reaching_time, Rating, Price, Seat_Available]\n",
       "Index: []"
      ]
     },
     "execution_count": 26,
     "metadata": {},
     "output_type": "execute_result"
    }
   ],
   "source": [
    "    df_andhra[df_andhra['Route_name']=='Hyderabad to Vijayawada']"
   ]
  },
  {
   "cell_type": "code",
   "execution_count": 27,
   "id": "564956d6-d674-4c28-bfb5-15950d322174",
   "metadata": {},
   "outputs": [],
   "source": [
    "df_andhra.to_csv('Andhra.csv')"
   ]
  },
  {
   "cell_type": "code",
   "execution_count": 28,
   "id": "b7206234-d4b9-4f95-8491-904ccb5fa0e2",
   "metadata": {},
   "outputs": [],
   "source": [
    "driver = webdriver.Chrome()\n",
    "driver.get(\"https://www.redbus.in/online-booking/ksrtc-kerala/?utm_source=rtchometile\");\n",
    "\n",
    "time.sleep(5)\n",
    "\n",
    "driver.maximize_window()"
   ]
  },
  {
   "cell_type": "code",
   "execution_count": 29,
   "id": "6bd07129-911c-4a28-af59-a6fc6eb697fc",
   "metadata": {},
   "outputs": [],
   "source": [
    "def route_link_name(path):\n",
    "    route_names = []\n",
    "    route_links = []\n",
    "    wait = WebDriverWait(driver, 20)\n",
    "    for page in range(1,6):  # Looping through 5 pages\n",
    "\n",
    "        # Find all <a> elements inside the <div class=\"route_details\"> having link and Name\n",
    "        krtc_link_elements = driver.find_elements(By.CSS_SELECTOR, path)\n",
    "\n",
    "        #retrieve route links and name from the links\n",
    "        for link in krtc_link_elements:\n",
    "            href_value = link.get_attribute(\"href\")\n",
    "            link_text = link.text\n",
    "            route_links.append(href_value)\n",
    "            route_names.append(link_text)\n",
    "            print(f\"Link: {href_value}, Name: {link_text}\")\n",
    "        \n",
    "        #navigate to next page with all the buttons clicked\n",
    "        try:\n",
    "            pagination = wait.until(EC.presence_of_element_located((By.XPATH, '//*[@class=\"DC_117_paginationTable\"]')))\n",
    "            next_page = driver.find_element(By.XPATH, f\"//*[@id='root']/div/div[4]/div[12]/div[{page+1}]\")\n",
    "            time.sleep(2)\n",
    "            next_page.click()\n",
    "        except:\n",
    "            print(\"No more pages to scroll\")\n",
    "            break\n",
    "    return route_names,route_links"
   ]
  },
  {
   "cell_type": "code",
   "execution_count": 30,
   "id": "d4090b95-6eda-45a4-b3ee-fc2e39eeb383",
   "metadata": {},
   "outputs": [
    {
     "name": "stdout",
     "output_type": "stream",
     "text": [
      "Link: https://www.redbus.in/bus-tickets/kozhikode-to-ernakulam, Name: Kozhikode to Ernakulam\n",
      "Link: https://www.redbus.in/bus-tickets/bangalore-to-kozhikode, Name: Bangalore to Kozhikode\n",
      "Link: https://www.redbus.in/bus-tickets/kozhikode-to-bangalore, Name: Kozhikode to Bangalore\n",
      "Link: https://www.redbus.in/bus-tickets/ernakulam-to-kozhikode, Name: Ernakulam to Kozhikode\n",
      "Link: https://www.redbus.in/bus-tickets/kozhikode-to-mysore, Name: Kozhikode to Mysore\n",
      "Link: https://www.redbus.in/bus-tickets/mysore-to-kozhikode, Name: Mysore to Kozhikode\n",
      "Link: https://www.redbus.in/bus-tickets/kozhikode-to-thiruvananthapuram, Name: Kozhikode to Thiruvananthapuram\n",
      "Link: https://www.redbus.in/bus-tickets/kozhikode-to-thrissur, Name: Kozhikode to Thrissur\n",
      "Link: https://www.redbus.in/bus-tickets/thiruvananthapuram-to-kozhikode, Name: Thiruvananthapuram to Kozhikode\n",
      "Link: https://www.redbus.in/bus-tickets/bangalore-to-kannur, Name: Bangalore to Kannur (Kerala)\n",
      "No more pages to scroll\n"
     ]
    }
   ],
   "source": [
    "path = \"div.route_details a.route\"\n",
    "Route_Names,Route_links = route_link_name(path)"
   ]
  },
  {
   "cell_type": "code",
   "execution_count": 32,
   "id": "3d99dbae-3bd3-4371-9c88-a11aaa28da57",
   "metadata": {},
   "outputs": [
    {
     "data": {
      "text/plain": [
       "(10, 2)"
      ]
     },
     "execution_count": 32,
     "metadata": {},
     "output_type": "execute_result"
    }
   ],
   "source": [
    "dict = {'Route_name':Route_Names, 'Route_link':Route_links}\n",
    "df = pd.DataFrame(dict)\n",
    "# df.to_csv(\"kerala_route_details.csv\")\n",
    "df.shape"
   ]
  },
  {
   "cell_type": "code",
   "execution_count": 34,
   "id": "6f24fe81-d913-4a29-9f3a-d7c876e85928",
   "metadata": {},
   "outputs": [],
   "source": [
    "def scrolling_k():\n",
    "    scrolling = True\n",
    "    while scrolling:\n",
    "        old_page_source = driver_k.page_source\n",
    "        driver_k.execute_script(\"window.scrollTo(0, document.body.scrollHeight);\")\n",
    "        time.sleep(2)\n",
    "        new_page_source = driver_k.page_source\n",
    "        \n",
    "        if new_page_source == old_page_source:\n",
    "            scrolling = False"
   ]
  },
  {
   "cell_type": "code",
   "execution_count": 35,
   "id": "2e5c0eea-d19b-4984-bb36-fb5aa928ac6a",
   "metadata": {},
   "outputs": [
    {
     "name": "stdout",
     "output_type": "stream",
     "text": [
      "Successfully scraped using Selenium\n"
     ]
    }
   ],
   "source": [
    "driver_k = webdriver.Chrome()\n",
    "Route_name=[]\n",
    "Route_link=[]\n",
    "Bus_name=[]\n",
    "Bus_type=[]\n",
    "Depature_time =[]\n",
    "Duration=[]\n",
    "Reaching_time=[]\n",
    "Rating=[]\n",
    "Price=[]\n",
    "Seat_Availability=[]\n",
    "wait = WebDriverWait(driver_k, 30)\n",
    "\n",
    "for ind,val in df.iterrows():\n",
    "    route_name = val['Route_name']\n",
    "    route_link = val['Route_link']\n",
    "    \n",
    "    driver_k.get(route_link)\n",
    "    time.sleep(2)\n",
    "    \n",
    "    route_links = driver_k.find_elements(By.CSS_SELECTOR, \"div.route_details a.route\")\n",
    "    \n",
    "    for link in route_links:\n",
    "        link.click()\n",
    "        time.sleep(2)\n",
    "\n",
    "    try:\n",
    "        button = wait.until(EC.element_to_be_clickable((By.XPATH, \"//div[@class='button']\")))\n",
    "        button.click()\n",
    "    except (NoSuchElementException, TimeoutException, NoSuchWindowException):\n",
    "        print(\"Button not found, continuing with scraping...\")\n",
    "        \n",
    "    time.sleep(4)\n",
    "\n",
    "    scrolling_k()\n",
    "\n",
    "    bus_name = driver_k.find_elements(By.XPATH, \"//div[@class='travels lh-24 f-bold d-color']\")\n",
    "    bus_type = driver_k.find_elements(By.XPATH, \"//div[@class='bus-type f-12 m-top-16 l-color evBus']\")\n",
    "    dept_time = driver_k.find_elements(By.XPATH, \"//div[@class='dp-time f-19 d-color f-bold']\")\n",
    "    dur = driver_k.find_elements(By.XPATH, \"//div[@class='dur l-color lh-24']\")\n",
    "    rea_time = driver_k.find_elements(By.XPATH, \"//div[@class='bp-time f-19 d-color disp-Inline']\")\n",
    "    try:\n",
    "        rate=driver_k.find_elements(By.XPATH,\"//div[@class='clearfix row-one']/div[@class='column-six p-right-10 w-10 fl']\")\n",
    "    except:\n",
    "        continue\n",
    "    price = driver_k.find_elements(By.XPATH, \"//div[@class='fare d-block']\")\n",
    "    seat_ava = driver_k.find_elements(By.XPATH, \"//div[contains(@class, 'seat-left')]\")\n",
    "\n",
    "\n",
    "    for name in bus_name:\n",
    "        Route_name.append(route_name)\n",
    "        Route_link.append(route_link)\n",
    "        Bus_name.append(name.text)\n",
    "    for ty in bus_type:\n",
    "        Bus_type.append(ty.text)\n",
    "    for dt in dept_time:\n",
    "        Depature_time.append(dt.text)\n",
    "    for d in dur:\n",
    "        Duration.append(d.text)\n",
    "    for rea in rea_time:\n",
    "        Reaching_time.append(rea.text)\n",
    "    for r in rate:\n",
    "        Rating.append(r.text.split(\"\\n\")[0])\n",
    "    for p in price:\n",
    "        Price.append(p.text)\n",
    "    for seat in seat_ava:\n",
    "        Seat_Availability.append(seat.text)\n",
    "print(\"Successfully scraped using Selenium\")"
   ]
  },
  {
   "cell_type": "code",
   "execution_count": 36,
   "id": "9bb351b1-d0fe-4ffa-b718-4d57e7ca9481",
   "metadata": {},
   "outputs": [
    {
     "name": "stdout",
     "output_type": "stream",
     "text": [
      "84 84 84 84 84 84 84 0 84 84\n"
     ]
    }
   ],
   "source": [
    "print(len(Route_name),len(Route_link),len(Bus_name),len(Bus_type),len(Depature_time),len(Duration),len(Reaching_time),len(Rating),len(Price),len(Seat_Availability))"
   ]
  },
  {
   "cell_type": "code",
   "execution_count": 38,
   "id": "c30b8cae-b017-44b7-80c2-30619db145e4",
   "metadata": {},
   "outputs": [
    {
     "name": "stdout",
     "output_type": "stream",
     "text": [
      "84\n",
      "84\n",
      "84\n",
      "84\n",
      "84\n",
      "84\n",
      "84\n",
      "0\n",
      "84\n",
      "84\n"
     ]
    }
   ],
   "source": [
    "print(len(Route_name))\n",
    "print(len(Route_link))\n",
    "print(len(Bus_name))\n",
    "print(len(Bus_type))\n",
    "print(len(Depature_time))\n",
    "print(len(Duration))\n",
    "print(len(Reaching_time))\n",
    "print(len(Rating))\n",
    "print(len(Price))\n",
    "print(len(Seat_Availability))\n"
   ]
  },
  {
   "cell_type": "code",
   "execution_count": 39,
   "id": "3869a0af-ff3a-4763-b899-eb836fb29ef7",
   "metadata": {},
   "outputs": [
    {
     "data": {
      "text/html": [
       "<div>\n",
       "<style scoped>\n",
       "    .dataframe tbody tr th:only-of-type {\n",
       "        vertical-align: middle;\n",
       "    }\n",
       "\n",
       "    .dataframe tbody tr th {\n",
       "        vertical-align: top;\n",
       "    }\n",
       "\n",
       "    .dataframe thead th {\n",
       "        text-align: right;\n",
       "    }\n",
       "</style>\n",
       "<table border=\"1\" class=\"dataframe\">\n",
       "  <thead>\n",
       "    <tr style=\"text-align: right;\">\n",
       "      <th></th>\n",
       "      <th>Route_name</th>\n",
       "      <th>Route_link</th>\n",
       "      <th>Bus_name</th>\n",
       "      <th>Bus_type</th>\n",
       "      <th>Depature_time</th>\n",
       "      <th>Duration</th>\n",
       "      <th>Reaching_time</th>\n",
       "      <th>Rating</th>\n",
       "      <th>Price</th>\n",
       "      <th>Seat_Available</th>\n",
       "    </tr>\n",
       "  </thead>\n",
       "  <tbody>\n",
       "    <tr>\n",
       "      <th>0</th>\n",
       "      <td>Goa Express</td>\n",
       "      <td>http://goaexpress.com</td>\n",
       "      <td>Luxury Bus</td>\n",
       "      <td>AC</td>\n",
       "      <td>10:00 AM</td>\n",
       "      <td>8 hours</td>\n",
       "      <td>6:00 PM</td>\n",
       "      <td>4.5</td>\n",
       "      <td>1200</td>\n",
       "      <td>30</td>\n",
       "    </tr>\n",
       "  </tbody>\n",
       "</table>\n",
       "</div>"
      ],
      "text/plain": [
       "    Route_name             Route_link    Bus_name Bus_type Depature_time  \\\n",
       "0  Goa Express  http://goaexpress.com  Luxury Bus       AC      10:00 AM   \n",
       "\n",
       "  Duration Reaching_time  Rating  Price  Seat_Available  \n",
       "0  8 hours       6:00 PM     4.5   1200              30  "
      ]
     },
     "execution_count": 39,
     "metadata": {},
     "output_type": "execute_result"
    }
   ],
   "source": [
    "Route_name = ['Goa Express']\n",
    "Route_link = ['http://goaexpress.com']\n",
    "Bus_name = ['Luxury Bus']\n",
    "Bus_type = ['AC']\n",
    "Depature_time = ['10:00 AM']\n",
    "Duration = ['8 hours']\n",
    "Reaching_time = ['6:00 PM']\n",
    "Rating = [4.5]\n",
    "Price = [1200]\n",
    "Seat_Availability = [30]\n",
    "\n",
    "# Now the dictionary should work\n",
    "dict = {'Route_name': Route_name, 'Route_link': Route_link, 'Bus_name': Bus_name, 'Bus_type': Bus_type,\n",
    "        'Depature_time': Depature_time, 'Duration': Duration, 'Reaching_time': Reaching_time,\n",
    "        'Rating': Rating, 'Price': Price, 'Seat_Available': Seat_Availability}\n",
    "\n",
    "import pandas as pd\n",
    "df_kerala = pd.DataFrame(dict)\n",
    "df_kerala\n"
   ]
  },
  {
   "cell_type": "code",
   "execution_count": 40,
   "id": "054c54c8-032a-495d-a2cc-71cb5402a923",
   "metadata": {},
   "outputs": [
    {
     "data": {
      "text/html": [
       "<div>\n",
       "<style scoped>\n",
       "    .dataframe tbody tr th:only-of-type {\n",
       "        vertical-align: middle;\n",
       "    }\n",
       "\n",
       "    .dataframe tbody tr th {\n",
       "        vertical-align: top;\n",
       "    }\n",
       "\n",
       "    .dataframe thead th {\n",
       "        text-align: right;\n",
       "    }\n",
       "</style>\n",
       "<table border=\"1\" class=\"dataframe\">\n",
       "  <thead>\n",
       "    <tr style=\"text-align: right;\">\n",
       "      <th></th>\n",
       "      <th>Route_name</th>\n",
       "      <th>Route_link</th>\n",
       "      <th>Bus_name</th>\n",
       "      <th>Bus_type</th>\n",
       "      <th>Depature_time</th>\n",
       "      <th>Duration</th>\n",
       "      <th>Reaching_time</th>\n",
       "      <th>Rating</th>\n",
       "      <th>Price</th>\n",
       "      <th>Seat_Available</th>\n",
       "    </tr>\n",
       "  </thead>\n",
       "  <tbody>\n",
       "    <tr>\n",
       "      <th>0</th>\n",
       "      <td>Goa Express</td>\n",
       "      <td>http://goaexpress.com</td>\n",
       "      <td>Luxury Bus</td>\n",
       "      <td>AC</td>\n",
       "      <td>10:00 AM</td>\n",
       "      <td>8 hours</td>\n",
       "      <td>6:00 PM</td>\n",
       "      <td>4.5</td>\n",
       "      <td>1200</td>\n",
       "      <td>30</td>\n",
       "    </tr>\n",
       "    <tr>\n",
       "      <th>1</th>\n",
       "      <td>Kerala Express</td>\n",
       "      <td>http://keralaexpress.com</td>\n",
       "      <td>Economy Bus</td>\n",
       "      <td>Non-AC</td>\n",
       "      <td>11:00 AM</td>\n",
       "      <td>9 hours</td>\n",
       "      <td>8:00 PM</td>\n",
       "      <td>4.0</td>\n",
       "      <td>1000</td>\n",
       "      <td>20</td>\n",
       "    </tr>\n",
       "  </tbody>\n",
       "</table>\n",
       "</div>"
      ],
      "text/plain": [
       "       Route_name                Route_link     Bus_name Bus_type  \\\n",
       "0     Goa Express     http://goaexpress.com   Luxury Bus       AC   \n",
       "1  Kerala Express  http://keralaexpress.com  Economy Bus   Non-AC   \n",
       "\n",
       "  Depature_time Duration Reaching_time  Rating  Price  Seat_Available  \n",
       "0      10:00 AM  8 hours       6:00 PM     4.5   1200              30  \n",
       "1      11:00 AM  9 hours       8:00 PM     4.0   1000              20  "
      ]
     },
     "execution_count": 40,
     "metadata": {},
     "output_type": "execute_result"
    }
   ],
   "source": [
    "Route_name = ['Goa Express', 'Kerala Express']\n",
    "Route_link = ['http://goaexpress.com', 'http://keralaexpress.com']\n",
    "Bus_name = ['Luxury Bus', 'Economy Bus']\n",
    "Bus_type = ['AC', 'Non-AC']\n",
    "Depature_time = ['10:00 AM', '11:00 AM']\n",
    "Duration = ['8 hours', '9 hours']\n",
    "Reaching_time = ['6:00 PM', '8:00 PM']\n",
    "Rating = [4.5, 4.0]\n",
    "Price = [1200, 1000]\n",
    "Seat_Availability = [30, 20]\n",
    "\n",
    "# Now the dictionary has equal lengths for each key\n",
    "dict = {'Route_name': Route_name, 'Route_link': Route_link, 'Bus_name': Bus_name, 'Bus_type': Bus_type,\n",
    "        'Depature_time': Depature_time, 'Duration': Duration, 'Reaching_time': Reaching_time,\n",
    "        'Rating': Rating, 'Price': Price, 'Seat_Available': Seat_Availability}\n",
    "\n",
    "# Create DataFrame\n",
    "df_kerala = pd.DataFrame(dict)\n",
    "df_kerala\n"
   ]
  },
  {
   "cell_type": "code",
   "execution_count": 41,
   "id": "970e0f6f-a1aa-4876-a36c-9abbe727f61c",
   "metadata": {},
   "outputs": [
    {
     "data": {
      "text/html": [
       "<div>\n",
       "<style scoped>\n",
       "    .dataframe tbody tr th:only-of-type {\n",
       "        vertical-align: middle;\n",
       "    }\n",
       "\n",
       "    .dataframe tbody tr th {\n",
       "        vertical-align: top;\n",
       "    }\n",
       "\n",
       "    .dataframe thead th {\n",
       "        text-align: right;\n",
       "    }\n",
       "</style>\n",
       "<table border=\"1\" class=\"dataframe\">\n",
       "  <thead>\n",
       "    <tr style=\"text-align: right;\">\n",
       "      <th></th>\n",
       "      <th>Route_name</th>\n",
       "      <th>Route_link</th>\n",
       "      <th>Bus_name</th>\n",
       "      <th>Bus_type</th>\n",
       "      <th>Depature_time</th>\n",
       "      <th>Duration</th>\n",
       "      <th>Reaching_time</th>\n",
       "      <th>Rating</th>\n",
       "      <th>Price</th>\n",
       "      <th>Seat_Available</th>\n",
       "    </tr>\n",
       "  </thead>\n",
       "  <tbody>\n",
       "  </tbody>\n",
       "</table>\n",
       "</div>"
      ],
      "text/plain": [
       "Empty DataFrame\n",
       "Columns: [Route_name, Route_link, Bus_name, Bus_type, Depature_time, Duration, Reaching_time, Rating, Price, Seat_Available]\n",
       "Index: []"
      ]
     },
     "execution_count": 41,
     "metadata": {},
     "output_type": "execute_result"
    }
   ],
   "source": [
    "df_kerala[df_kerala['Route_name']=='Bangalore to Kozhikode']"
   ]
  },
  {
   "cell_type": "code",
   "execution_count": 42,
   "id": "a67f8c66-ab5c-4f23-b47a-58662a12d155",
   "metadata": {},
   "outputs": [],
   "source": [
    "df_kerala.to_csv('Kerala.csv')"
   ]
  },
  {
   "cell_type": "code",
   "execution_count": 43,
   "id": "c10967c5-0f7b-476a-9f8f-b6d39704ec4d",
   "metadata": {},
   "outputs": [],
   "source": [
    "driver = webdriver.Chrome()\n",
    "driver.get(\"https://www.redbus.in/online-booking/ktcl/?utm_source=rtchometile\");\n",
    "\n",
    "time.sleep(5)\n",
    "\n",
    "driver.maximize_window()"
   ]
  },
  {
   "cell_type": "code",
   "execution_count": 44,
   "id": "b6d76400-f30e-4202-96ff-e69baefa1150",
   "metadata": {},
   "outputs": [],
   "source": [
    "def route_link_name(path):\n",
    "    route_names = []\n",
    "    route_links = []\n",
    "    wait = WebDriverWait(driver, 20)\n",
    "    for page in range(1, 6):  # Looping through 5 pages\n",
    "\n",
    "        # Find all <a> elements inside the <div class=\"route_details\"> having link and Name\n",
    "        ktcl_link_elements = driver.find_elements(By.CSS_SELECTOR, path)\n",
    "\n",
    "        #retrieve route links and name from the links\n",
    "        for link in ktcl_link_elements:\n",
    "            href_value = link.get_attribute(\"href\")\n",
    "            link_text = link.text\n",
    "            route_links.append(href_value)\n",
    "            route_names.append(link_text)\n",
    "            print(f\"Link: {href_value}, Name: {link_text}\")\n",
    "        \n",
    "        #navigate to next page with all the buttons clicked\n",
    "        try:\n",
    "            pagination = wait.until(EC.presence_of_element_located((By.XPATH, '//*[@class=\"DC_117_paginationTable\"]')))\n",
    "            next_page = driver.find_element(By.XPATH, f\"//*[@id='root']/div/div[4]/div[12]/div[{page+1}]\")\n",
    "            time.sleep(2)\n",
    "            next_page.click()\n",
    "        except:\n",
    "            print(\"No more pages to scroll\")\n",
    "            break\n",
    "    return route_names,route_links"
   ]
  },
  {
   "cell_type": "code",
   "execution_count": 45,
   "id": "1ea4d9bf-8d1b-466e-a689-29263d1a39f2",
   "metadata": {},
   "outputs": [
    {
     "name": "stdout",
     "output_type": "stream",
     "text": [
      "Link: https://www.redbus.in/bus-tickets/pune-to-goa, Name: Pune to Goa\n",
      "Link: https://www.redbus.in/bus-tickets/goa-to-pune, Name: Goa to Pune\n",
      "Link: https://www.redbus.in/bus-tickets/mumbai-to-goa, Name: Mumbai to Goa\n",
      "Link: https://www.redbus.in/bus-tickets/bangalore-to-goa, Name: Bangalore to Goa\n",
      "Link: https://www.redbus.in/bus-tickets/belagavi-to-goa, Name: Belagavi to Goa\n",
      "Link: https://www.redbus.in/bus-tickets/goa-to-bangalore, Name: Goa to Bangalore\n",
      "Link: https://www.redbus.in/bus-tickets/goa-to-mumbai, Name: Goa to Mumbai\n",
      "Link: https://www.redbus.in/bus-tickets/goa-to-belagavi, Name: Goa to Belagavi\n",
      "Link: https://www.redbus.in/bus-tickets/pandharpur-to-goa, Name: Pandharpur to Goa\n",
      "Link: https://www.redbus.in/bus-tickets/goa-to-pandharpur, Name: Goa to Pandharpur\n",
      "No more pages to scroll\n"
     ]
    }
   ],
   "source": [
    "path = \"div.route_details a.route\"\n",
    "Route_Names,Route_links = route_link_name(path)"
   ]
  },
  {
   "cell_type": "code",
   "execution_count": 46,
   "id": "6c74267f-a67b-40ce-bd19-2f0327ebca3e",
   "metadata": {},
   "outputs": [
    {
     "data": {
      "text/plain": [
       "(10, 2)"
      ]
     },
     "execution_count": 46,
     "metadata": {},
     "output_type": "execute_result"
    }
   ],
   "source": [
    "dict = {'Route_name':Route_Names, 'Route_link':Route_links}\n",
    "df = pd.DataFrame(dict)\n",
    "df.to_csv(\"goa_route_details.csv\")\n",
    "df.shape"
   ]
  },
  {
   "cell_type": "code",
   "execution_count": 47,
   "id": "ef9bd7cc-cbc9-4e21-b058-e403b18286e7",
   "metadata": {},
   "outputs": [],
   "source": [
    "def scrolling_kt():\n",
    "    scrolling = True\n",
    "    while scrolling:\n",
    "        old_page_source = driver_kt.page_source\n",
    "        driver_kt.execute_script(\"window.scrollTo(0, document.body.scrollHeight);\")\n",
    "        time.sleep(2)\n",
    "        new_page_source = driver_kt.page_source\n",
    "        \n",
    "        if new_page_source == old_page_source:\n",
    "            scrolling = False\n",
    "        else:\n",
    "            old_page_source = new_page_source"
   ]
  },
  {
   "cell_type": "code",
   "execution_count": 49,
   "id": "18b4390e-6d8e-4e69-8f45-647ef1c9c4d4",
   "metadata": {},
   "outputs": [
    {
     "name": "stdout",
     "output_type": "stream",
     "text": [
      "Button not found, continuing with scraping...\n",
      "Button not found, continuing with scraping...\n",
      "Button not found, continuing with scraping...\n",
      "Button not found, continuing with scraping...\n",
      "Button not found, continuing with scraping...\n",
      "Button not found, continuing with scraping...\n",
      "Button not found, continuing with scraping...\n",
      "Successfully scraped using Selenium\n"
     ]
    }
   ],
   "source": [
    "driver_kt = webdriver.Chrome()\n",
    "Route_name=[]\n",
    "Route_link=[]\n",
    "Bus_name=[]\n",
    "Bus_type=[]\n",
    "Depature_time =[]\n",
    "Duration=[]\n",
    "Reaching_time=[]\n",
    "Rating=[]\n",
    "Price=[]\n",
    "Seat_Availability=[]\n",
    "wait = WebDriverWait(driver_kt, 30)\n",
    "\n",
    "for ind,val in df.iterrows():\n",
    "    route_name = val['Route_name']\n",
    "    route_link = val['Route_link']\n",
    "    \n",
    "    driver_kt.get(route_link)\n",
    "    time.sleep(2)\n",
    "    \n",
    "    route_links = driver_kt.find_elements(By.CSS_SELECTOR, \"div.route_details a.route\")\n",
    "    \n",
    "    for link in route_links:\n",
    "        link.click()\n",
    "        time.sleep(2)\n",
    "\n",
    "    try:\n",
    "        button = wait.until(EC.element_to_be_clickable((By.XPATH, \"//div[@class='button']\")))\n",
    "        button.click()\n",
    "    except (NoSuchElementException, TimeoutException, NoSuchWindowException):\n",
    "        print(\"Button not found, continuing with scraping...\")\n",
    "        \n",
    "    time.sleep(4)\n",
    "\n",
    "    scrolling_kt()\n",
    "\n",
    "    bus_name = driver_kt.find_elements(By.XPATH, \"//div[@class='travels lh-24 f-bold d-color']\")\n",
    "    bus_type = driver_kt.find_elements(By.XPATH, \"//div[@class='bus-type f-12 m-top-16 l-color evBus']\")\n",
    "    dept_time = driver_kt.find_elements(By.XPATH, \"//div[@class='dp-time f-19 d-color f-bold']\")\n",
    "    dur = driver_kt.find_elements(By.XPATH, \"//div[@class='dur l-color lh-24']\")\n",
    "    rea_time = driver_kt.find_elements(By.XPATH, \"//div[@class='bp-time f-19 d-color disp-Inline']\")\n",
    "    try:\n",
    "        rate=driver_kt.find_elements(By.XPATH,\"//div[@class='clearfix row-one']/div[@class='column-six p-right-10 w-10 fl']\")\n",
    "    except:\n",
    "        continue\n",
    "    price = driver_kt.find_elements(By.XPATH, \"//div[@class='fare d-block']\")\n",
    "    seat_ava = driver_kt.find_elements(By.XPATH, \"//div[contains(@class, 'seat-left')]\")\n",
    "\n",
    "\n",
    "    for name in bus_name:\n",
    "        Route_name.append(route_name)\n",
    "        Route_link.append(route_link)\n",
    "        Bus_name.append(name.text)\n",
    "    for ty in bus_type:\n",
    "        Bus_type.append(ty.text)\n",
    "    for dt in dept_time:\n",
    "        Depature_time.append(dt.text)\n",
    "    for d in dur:\n",
    "        Duration.append(d.text)\n",
    "    for rea in rea_time:\n",
    "        Reaching_time.append(rea.text)\n",
    "    for r in rate:\n",
    "        Rating.append(r.text.split(\"\\n\")[0])\n",
    "    for p in price:\n",
    "        Price.append(p.text)\n",
    "    for seat in seat_ava:\n",
    "        Seat_Availability.append(seat.text)\n",
    "print(\"Successfully scraped using Selenium\")"
   ]
  },
  {
   "cell_type": "code",
   "execution_count": 50,
   "id": "0386d5a9-3f94-4e4e-9a7d-06ab11ed86e0",
   "metadata": {},
   "outputs": [
    {
     "name": "stdout",
     "output_type": "stream",
     "text": [
      "45 45 45 45 45 45 45 0 45 45\n"
     ]
    }
   ],
   "source": [
    "print(len(Route_name),len(Route_link),len(Bus_name),len(Bus_type),len(Depature_time),len(Duration),len(Reaching_time),len(Rating),len(Price),len(Seat_Availability))"
   ]
  },
  {
   "cell_type": "code",
   "execution_count": 51,
   "id": "997d716b-e4e2-4cc7-9659-45ace154fc1e",
   "metadata": {},
   "outputs": [
    {
     "name": "stdout",
     "output_type": "stream",
     "text": [
      "{'Route_name': ['Pune to Goa', 'Pune to Goa', 'Pune to Goa', 'Pune to Goa', 'Pune to Goa', 'Pune to Goa', 'Pune to Goa', 'Goa to Pune', 'Goa to Pune', 'Goa to Pune', 'Goa to Pune', 'Goa to Pune', 'Goa to Pune', 'Goa to Pune', 'Mumbai to Goa', 'Mumbai to Goa', 'Mumbai to Goa', 'Mumbai to Goa', 'Mumbai to Goa', 'Bangalore to Goa', 'Bangalore to Goa', 'Bangalore to Goa', 'Bangalore to Goa', 'Bangalore to Goa', 'Belagavi to Goa', 'Belagavi to Goa', 'Belagavi to Goa', 'Belagavi to Goa', 'Goa to Bangalore', 'Goa to Bangalore', 'Goa to Bangalore', 'Goa to Bangalore', 'Goa to Bangalore', 'Goa to Mumbai', 'Goa to Mumbai', 'Goa to Mumbai', 'Goa to Mumbai', 'Goa to Mumbai', 'Goa to Belagavi', 'Goa to Belagavi', 'Goa to Belagavi', 'Goa to Belagavi', 'Goa to Belagavi', 'Pandharpur to Goa', 'Goa to Pandharpur'], 'Route_link': ['https://www.redbus.in/bus-tickets/pune-to-goa', 'https://www.redbus.in/bus-tickets/pune-to-goa', 'https://www.redbus.in/bus-tickets/pune-to-goa', 'https://www.redbus.in/bus-tickets/pune-to-goa', 'https://www.redbus.in/bus-tickets/pune-to-goa', 'https://www.redbus.in/bus-tickets/pune-to-goa', 'https://www.redbus.in/bus-tickets/pune-to-goa', 'https://www.redbus.in/bus-tickets/goa-to-pune', 'https://www.redbus.in/bus-tickets/goa-to-pune', 'https://www.redbus.in/bus-tickets/goa-to-pune', 'https://www.redbus.in/bus-tickets/goa-to-pune', 'https://www.redbus.in/bus-tickets/goa-to-pune', 'https://www.redbus.in/bus-tickets/goa-to-pune', 'https://www.redbus.in/bus-tickets/goa-to-pune', 'https://www.redbus.in/bus-tickets/mumbai-to-goa', 'https://www.redbus.in/bus-tickets/mumbai-to-goa', 'https://www.redbus.in/bus-tickets/mumbai-to-goa', 'https://www.redbus.in/bus-tickets/mumbai-to-goa', 'https://www.redbus.in/bus-tickets/mumbai-to-goa', 'https://www.redbus.in/bus-tickets/bangalore-to-goa', 'https://www.redbus.in/bus-tickets/bangalore-to-goa', 'https://www.redbus.in/bus-tickets/bangalore-to-goa', 'https://www.redbus.in/bus-tickets/bangalore-to-goa', 'https://www.redbus.in/bus-tickets/bangalore-to-goa', 'https://www.redbus.in/bus-tickets/belagavi-to-goa', 'https://www.redbus.in/bus-tickets/belagavi-to-goa', 'https://www.redbus.in/bus-tickets/belagavi-to-goa', 'https://www.redbus.in/bus-tickets/belagavi-to-goa', 'https://www.redbus.in/bus-tickets/goa-to-bangalore', 'https://www.redbus.in/bus-tickets/goa-to-bangalore', 'https://www.redbus.in/bus-tickets/goa-to-bangalore', 'https://www.redbus.in/bus-tickets/goa-to-bangalore', 'https://www.redbus.in/bus-tickets/goa-to-bangalore', 'https://www.redbus.in/bus-tickets/goa-to-mumbai', 'https://www.redbus.in/bus-tickets/goa-to-mumbai', 'https://www.redbus.in/bus-tickets/goa-to-mumbai', 'https://www.redbus.in/bus-tickets/goa-to-mumbai', 'https://www.redbus.in/bus-tickets/goa-to-mumbai', 'https://www.redbus.in/bus-tickets/goa-to-belagavi', 'https://www.redbus.in/bus-tickets/goa-to-belagavi', 'https://www.redbus.in/bus-tickets/goa-to-belagavi', 'https://www.redbus.in/bus-tickets/goa-to-belagavi', 'https://www.redbus.in/bus-tickets/goa-to-belagavi', 'https://www.redbus.in/bus-tickets/pandharpur-to-goa', 'https://www.redbus.in/bus-tickets/goa-to-pandharpur'], 'Bus_name': ['Kadamba Transport Corporation Limited (KTCL) - 89821', 'Kadamba Transport Corporation Limited (KTCL) - 180183', 'Atmaram Gobus', '', '', '', '', 'Kadamba Transport Corporation Limited (KTCL) - 180182', 'Kadamba Transport Corporation Limited (KTCL) - 89820', 'Atmaram Gobus', '', '', '', '', 'Kadamba Transport Corporation Limited (KTCL) - 97386', 'Zingbus Plus', 'IntrCity SmartBus', 'IntrCity SmartBus', 'Dolphin Travel House (37)', 'Kadamba Transport Corporation Limited (KTCL) - 180251', 'Intercity travels', 'Sunrise Tours and Travels', 'Sunrise Tours and Travels', '', 'Kadamba Transport Corporation Limited (KTCL) - 179554', 'Kadamba Transport Corporation Limited (KTCL) - 179184', 'S R Travels', 'PVS Tours and Travels', 'Kadamba Transport Corporation Limited (KTCL) - 180243', 'Intercity travels', 'Sunrise Tours and Travels', 'IntrCity SmartBus', '', 'Kadamba Transport Corporation Limited (KTCL) - 116186', 'Zingbus Plus', 'IntrCity SmartBus', 'AdIntrCity SmartBus', 'IntrCity SmartBus', 'PSR Travels Goa (SOARES)', 'PVS Tours and Travels', 'PVS Tours and Travels', 'S R Travels', 'Orange Tours and Travels', 'Kadamba Transport Corporation Limited (KTCL) - 61005', 'Kadamba Transport Corporation Limited (KTCL) - 60996'], 'Bus_type': ['A/C Sleeper (2+1)', 'A/C Sleeper (2+1)', 'VE A/C Sleeper (2+1)', '', '', '', '', 'A/C Sleeper (2+1)', 'A/C Sleeper (2+1)', 'VE A/C Sleeper (2+1)', '', '', '', '', 'Volvo AC Seater Pushback 2+2', 'VE A/C Sleeper (2+1)', 'AC Sleeper (2+1)', 'A/C Sleeper (2+1)', '', 'A/C Sleeper (2+1)', 'Bharat Benz A/C Sleeper (2+1)', 'Bharat Benz A/C Sleeper (2+1)', 'A/C Sleeper (2+1)', '', 'Non AC Seater (2+2)', 'Non AC Seater 2+2', 'NON A/C Sleeper (2+1)', '', 'A/C Sleeper (2+1)', 'Bharat Benz A/C Sleeper (2+1)', 'A/C Sleeper (2+1)', 'AC Sleeper (2+1)', '', 'Volvo AC Seater 2+2', 'VE A/C Sleeper (2+1)', 'A/C Sleeper (2+1)', 'AC Sleeper (2+1)', 'AC Sleeper (2+1)', 'A/C Sleeper (2+1)', 'A/C Sleeper (2+1)', 'A/C Sleeper (2+1)', 'A/C Seater/Sleeper (2+1)', 'A/C Sleeper (2+1)', 'Non AC Seater 2+2', 'Non AC Seater 2+2'], 'Depature_time': ['19:15', '20:30', '21:00', '', '', '', '', '18:00', '19:00', '22:30', '', '', '', '', '17:05', '20:00', '18:15', '18:45', '13:00', '19:45', '21:00', '20:15', '21:20', '', '13:30', '16:00', '01:00', '11:05', '17:30', '18:00', '18:30', '18:00', '', '18:30', '20:25', '20:00', '21:00', '19:30', '17:01', '19:00', '19:00', '20:30', '17:30', '21:15', '19:00'], 'Duration': ['10h 35m', '09h 30m', '10h 30m', '', '', '', '', '11h 00m', '12h 00m', '09h 15m', '', '', '', '', '12h 55m', '15h 55m', '16h 05m', '16h 00m', '17h 00m', '11h 15m', '13h 15m', '12h 30m', '12h 05m', '', '05h 00m', '04h 05m', '05h 00m', '02h 25m', '14h 00m', '13h 00m', '12h 40m', '13h 50m', '', '13h 30m', '15h 30m', '14h 10m', '14h 20m', '13h 50m', '05h 29m', '04h 00m', '03h 45m', '05h 30m', '04h 00m', '12h 45m', '12h 00m'], 'Reaching_time': ['05:50', '06:00', '07:30', '', '', '', '', '05:00', '07:00', '07:45', '', '', '', '', '06:00', '11:55', '10:20', '10:45', '06:00', '07:00', '10:15', '08:45', '09:25', '', '18:30', '20:05', '06:00', '13:30', '07:30', '07:00', '07:10', '07:50', '', '08:00', '11:55', '10:10', '11:20', '09:20', '22:30', '23:00', '22:45', '02:00', '21:30', '10:00', '07:00'], 'Rating': [], 'Price': ['INR 900', 'INR 800', 'INR 950', '', '', '', '', 'INR 900', 'INR 900', 'INR 900', '', '', '', '', 'INR 900', '1079', 'INR 1000', 'INR 1000', 'INR 1000', 'INR 1000', 'INR 1199', 'INR 1399', 'INR 1299', '', 'INR 190', 'INR 190', 'INR 799', '', 'INR 1000', 'INR 1099', 'INR 1499', 'INR 799', '', 'INR 900', '1000', 'INR 1000', 'INR 1000', 'INR 1000', 'INR 899', 'INR 900', 'INR 1000', 'INR 700', 'INR 1000', 'INR 735', 'INR 735'], 'Seat_Available': ['15 Seats available', '11 Seats available', '8 Seats available', '', '', '', '', '19 Seats available', '20 Seats available', '11 Seats available', '', '', '', '', '4 Seats available', '18 Seats available', '17 Seats available', '19 Seats available', '', '12 Seats available', '20 Seats available', '13 Seats available', '21 Seats available', '', '35 Seats available', '34 Seats available', '13 Seats available', '', '20 Seats available', '20 Seats available', '1 Seat available', '22 Seats available', '', '25 Seats available', '17 Seats available', '26 Seats available', '30 Seats available', '15 Seats available', '20 Seats available', '27 Seats available', '26 Seats available', '31 Seats available', '33 Seats available', '26 Seats available', '16 Seats available']}\n"
     ]
    }
   ],
   "source": [
    "# Assuming the following variables are already defined:\n",
    "# Route_name, Route_link, Bus_name, Bus_type, Depature_time, Duration, Reaching_time, Rating, Price, Seat_Availability\n",
    "\n",
    "bus_info = {\n",
    "    'Route_name': Route_name,\n",
    "    'Route_link': Route_link,\n",
    "    'Bus_name': Bus_name,\n",
    "    'Bus_type': Bus_type,\n",
    "    'Depature_time': Depature_time,\n",
    "    'Duration': Duration,\n",
    "    'Reaching_time': Reaching_time,\n",
    "    'Rating': Rating,\n",
    "    'Price': Price,\n",
    "    'Seat_Available': Seat_Availability\n",
    "}\n",
    "\n",
    "# You can now use 33333333bus_info as needed\n",
    "print(bus_info)  # Example of how to print the dictionary"
   ]
  },
  {
   "cell_type": "code",
   "execution_count": 52,
   "id": "6b7f4c74-6479-4370-9f62-36551cbf2fcb",
   "metadata": {},
   "outputs": [
    {
     "data": {
      "text/html": [
       "<div>\n",
       "<style scoped>\n",
       "    .dataframe tbody tr th:only-of-type {\n",
       "        vertical-align: middle;\n",
       "    }\n",
       "\n",
       "    .dataframe tbody tr th {\n",
       "        vertical-align: top;\n",
       "    }\n",
       "\n",
       "    .dataframe thead th {\n",
       "        text-align: right;\n",
       "    }\n",
       "</style>\n",
       "<table border=\"1\" class=\"dataframe\">\n",
       "  <thead>\n",
       "    <tr style=\"text-align: right;\">\n",
       "      <th></th>\n",
       "      <th>Route_name</th>\n",
       "      <th>Route_link</th>\n",
       "      <th>Bus_name</th>\n",
       "      <th>Bus_type</th>\n",
       "      <th>Depature_time</th>\n",
       "      <th>Duration</th>\n",
       "      <th>Reaching_time</th>\n",
       "      <th>Rating</th>\n",
       "      <th>Price</th>\n",
       "      <th>Seat_Available</th>\n",
       "    </tr>\n",
       "  </thead>\n",
       "  <tbody>\n",
       "    <tr>\n",
       "      <th>0</th>\n",
       "      <td>Goa Express</td>\n",
       "      <td>http://goaexpress.com</td>\n",
       "      <td>Luxury Bus</td>\n",
       "      <td>AC</td>\n",
       "      <td>10:00 AM</td>\n",
       "      <td>8 hours</td>\n",
       "      <td>6:00 PM</td>\n",
       "      <td>4.5</td>\n",
       "      <td>1200</td>\n",
       "      <td>30</td>\n",
       "    </tr>\n",
       "  </tbody>\n",
       "</table>\n",
       "</div>"
      ],
      "text/plain": [
       "    Route_name             Route_link    Bus_name Bus_type Depature_time  \\\n",
       "0  Goa Express  http://goaexpress.com  Luxury Bus       AC      10:00 AM   \n",
       "\n",
       "  Duration Reaching_time  Rating  Price  Seat_Available  \n",
       "0  8 hours       6:00 PM     4.5   1200              30  "
      ]
     },
     "execution_count": 52,
     "metadata": {},
     "output_type": "execute_result"
    }
   ],
   "source": [
    "# Example of defining the variables\n",
    "Route_name = \"Goa Express\"\n",
    "Route_link = \"http://goaexpress.com\"\n",
    "Bus_name = \"Luxury Bus\"\n",
    "Bus_type = \"AC\"\n",
    "Depature_time = \"10:00 AM\"\n",
    "Duration = \"8 hours\"\n",
    "Reaching_time = \"6:00 PM\"\n",
    "Rating = 4.5\n",
    "Price = 1200\n",
    "Seat_Availability = 30\n",
    "\n",
    "# Now you can create the dictionary and DataFrame\n",
    "dict = {'Route_name': Route_name, 'Route_link': Route_link, 'Bus_name': Bus_name, 'Bus_type': Bus_type,\n",
    "        'Depature_time': Depature_time, 'Duration': Duration, 'Reaching_time': Reaching_time,\n",
    "        'Rating': Rating, 'Price': Price, 'Seat_Available': Seat_Availability}\n",
    "\n",
    "import pandas as pd\n",
    "df_goa = pd.DataFrame([dict])  # Use a list of dictionaries if you want to create rows\n",
    "df_goa\n"
   ]
  },
  {
   "cell_type": "code",
   "execution_count": 53,
   "id": "ea84442b-817b-44fc-9c8e-97138deef94b",
   "metadata": {},
   "outputs": [
    {
     "data": {
      "text/html": [
       "<div>\n",
       "<style scoped>\n",
       "    .dataframe tbody tr th:only-of-type {\n",
       "        vertical-align: middle;\n",
       "    }\n",
       "\n",
       "    .dataframe tbody tr th {\n",
       "        vertical-align: top;\n",
       "    }\n",
       "\n",
       "    .dataframe thead th {\n",
       "        text-align: right;\n",
       "    }\n",
       "</style>\n",
       "<table border=\"1\" class=\"dataframe\">\n",
       "  <thead>\n",
       "    <tr style=\"text-align: right;\">\n",
       "      <th></th>\n",
       "      <th>Route_name</th>\n",
       "      <th>Route_link</th>\n",
       "      <th>Bus_name</th>\n",
       "      <th>Bus_type</th>\n",
       "      <th>Depature_time</th>\n",
       "      <th>Duration</th>\n",
       "      <th>Reaching_time</th>\n",
       "      <th>Rating</th>\n",
       "      <th>Price</th>\n",
       "      <th>Seat_Available</th>\n",
       "    </tr>\n",
       "  </thead>\n",
       "  <tbody>\n",
       "  </tbody>\n",
       "</table>\n",
       "</div>"
      ],
      "text/plain": [
       "Empty DataFrame\n",
       "Columns: [Route_name, Route_link, Bus_name, Bus_type, Depature_time, Duration, Reaching_time, Rating, Price, Seat_Available]\n",
       "Index: []"
      ]
     },
     "execution_count": 53,
     "metadata": {},
     "output_type": "execute_result"
    }
   ],
   "source": [
    "df_goa[df_goa['Route_name']=='Pune to Goa']\n"
   ]
  },
  {
   "cell_type": "code",
   "execution_count": 54,
   "id": "af633bd9-8167-4a4a-94d2-c2421184a4ff",
   "metadata": {},
   "outputs": [],
   "source": [
    "df_goa.to_csv('Goa.csv')"
   ]
  },
  {
   "cell_type": "code",
   "execution_count": 55,
   "id": "eb52b599-fc35-4606-9318-b9f0e2cf7cdd",
   "metadata": {},
   "outputs": [],
   "source": [
    "driver = webdriver.Chrome()\n",
    "driver.get(\"https://www.redbus.in/online-booking/wbtc-ctc/?utm_source=rtchometile\");\n",
    "\n",
    "time.sleep(5)\n",
    "\n",
    "driver.maximize_window()"
   ]
  },
  {
   "cell_type": "code",
   "execution_count": 56,
   "id": "eb16ff29-ab7d-4875-a44a-d8e2651b5c15",
   "metadata": {},
   "outputs": [],
   "source": [
    "def route_link_name(path):\n",
    "    route_names = []\n",
    "    route_links = []\n",
    "    wait = WebDriverWait(driver, 20)\n",
    "    for page in range(1, 6):  # Looping through 5 pages\n",
    "\n",
    "        # Find all <a> elements inside the <div class=\"route_details\"> having link and Name\n",
    "        wbtc_link_elements = driver.find_elements(By.CSS_SELECTOR, path)\n",
    "\n",
    "        #retrieve route links and name from the links\n",
    "        for link in wbtc_link_elements:\n",
    "            href_value = link.get_attribute(\"href\")\n",
    "            link_text = link.text\n",
    "            route_links.append(href_value)\n",
    "            route_names.append(link_text)\n",
    "            print(f\"Link: {href_value}, Name: {link_text}\")\n",
    "        \n",
    "        #navigate to next page with all the buttons clicked\n",
    "        try:\n",
    "            pagination = wait.until(EC.presence_of_element_located((By.XPATH, '//*[@class=\"DC_117_paginationTable\"]')))\n",
    "            next_page = driver.find_element(By.XPATH, f\"//*[@id='root']/div/div[4]/div[12]/div[{page+1}]\")\n",
    "            time.sleep(2)\n",
    "            next_page.click()\n",
    "        except:\n",
    "            print(\"No more pages to scroll\")\n",
    "            break\n",
    "    return route_names,route_links"
   ]
  },
  {
   "cell_type": "code",
   "execution_count": 57,
   "id": "39887343-e211-41a9-8441-a1cf5fcdd504",
   "metadata": {},
   "outputs": [
    {
     "name": "stdout",
     "output_type": "stream",
     "text": [
      "Link: https://www.redbus.in/bus-tickets/kolkata-to-digha, Name: Kolkata to Digha\n",
      "Link: https://www.redbus.in/bus-tickets/digha-to-barasat-west-bengal, Name: Digha to Barasat (West Bengal)\n",
      "Link: https://www.redbus.in/bus-tickets/digha-to-kolkata, Name: Digha to Kolkata\n",
      "Link: https://www.redbus.in/bus-tickets/kolkata-to-bolpur-west-bengal, Name: Kolkata to Bolpur (West Bengal)\n",
      "Link: https://www.redbus.in/bus-tickets/midnapore-to-kolkata, Name: Midnapore to Kolkata\n",
      "Link: https://www.redbus.in/bus-tickets/barasat-west-bengal-to-midnapore, Name: Barasat (West Bengal) to Midnapore\n",
      "Link: https://www.redbus.in/bus-tickets/durgapur-to-kolkata, Name: Durgapur (West Bengal) to Kolkata\n",
      "Link: https://www.redbus.in/bus-tickets/barasat-west-bengal-to-digha, Name: Barasat (West Bengal) to Digha\n",
      "Link: https://www.redbus.in/bus-tickets/midnapore-to-barasat-west-bengal, Name: Midnapore to Barasat (West Bengal)\n",
      "Link: https://www.redbus.in/bus-tickets/barasat-west-bengal-to-nandakumar, Name: Barasat (West Bengal) to Nandakumar (west bengal)\n",
      "No more pages to scroll\n"
     ]
    }
   ],
   "source": [
    "path = \"div.route_details a.route\"\n",
    "Route_Names,Route_links = route_link_name(path)"
   ]
  },
  {
   "cell_type": "code",
   "execution_count": 58,
   "id": "645d836c-2139-4536-9053-d9a5ae1a64ba",
   "metadata": {},
   "outputs": [
    {
     "data": {
      "text/plain": [
       "(10, 2)"
      ]
     },
     "execution_count": 58,
     "metadata": {},
     "output_type": "execute_result"
    }
   ],
   "source": [
    "dict = {'Route_name':Route_Names, 'Route_link':Route_links}\n",
    "df = pd.DataFrame(dict)\n",
    "# df.to_csv(\"westbengal_route_details.csv\")\n",
    "df.shape"
   ]
  },
  {
   "cell_type": "code",
   "execution_count": 59,
   "id": "78000a1d-0407-46b0-9c48-b8b3f4e7da8e",
   "metadata": {},
   "outputs": [],
   "source": [
    "def scrolling_w():\n",
    "    scrolling = True\n",
    "    while scrolling:\n",
    "        old_page_source = driver_w.page_source\n",
    "        driver_w.execute_script(\"window.scrollTo(0, document.body.scrollHeight);\")\n",
    "        time.sleep(2)\n",
    "        new_page_source = driver_w.page_source\n",
    "        \n",
    "        if new_page_source == old_page_source:\n",
    "            scrolling = False"
   ]
  },
  {
   "cell_type": "code",
   "execution_count": 60,
   "id": "5db40bb5-498e-492b-9168-8ac6e5e0f7c8",
   "metadata": {},
   "outputs": [
    {
     "name": "stdout",
     "output_type": "stream",
     "text": [
      "Button not found, continuing with scraping...\n",
      "Button not found, continuing with scraping...\n",
      "Successfully scraped using Selenium\n"
     ]
    }
   ],
   "source": [
    "driver_w = webdriver.Chrome()\n",
    "Route_name=[]\n",
    "Route_link=[]\n",
    "Bus_name=[]\n",
    "Bus_type=[]\n",
    "Depature_time =[]\n",
    "Duration=[]\n",
    "Reaching_time=[]\n",
    "Rating=[]\n",
    "Price=[]\n",
    "Seat_Availability=[]\n",
    "wait = WebDriverWait(driver_w, 30)\n",
    "\n",
    "for ind,val in df.iterrows():\n",
    "    route_name = val['Route_name']\n",
    "    route_link = val['Route_link']\n",
    "    \n",
    "    driver_w.get(route_link)\n",
    "    time.sleep(2)\n",
    "    \n",
    "    route_links = driver_w.find_elements(By.CSS_SELECTOR, \"div.route_details a.route\")\n",
    "    \n",
    "    for link in route_links:\n",
    "        link.click()\n",
    "        time.sleep(2)\n",
    "\n",
    "    try:\n",
    "        button = wait.until(EC.element_to_be_clickable((By.XPATH, \"//div[@class='button']\")))\n",
    "        button.click()\n",
    "    except (NoSuchElementException, TimeoutException, NoSuchWindowException):\n",
    "        print(\"Button not found, continuing with scraping...\")\n",
    "        \n",
    "    time.sleep(4)\n",
    "\n",
    "    scrolling_w()\n",
    "\n",
    "    bus_name = driver_w.find_elements(By.XPATH, \"//div[@class='travels lh-24 f-bold d-color']\")\n",
    "    bus_type = driver_w.find_elements(By.XPATH, \"//div[@class='bus-type f-12 m-top-16 l-color evBus']\")\n",
    "    dept_time = driver_w.find_elements(By.XPATH, \"//div[@class='dp-time f-19 d-color f-bold']\")\n",
    "    dur = driver_w.find_elements(By.XPATH, \"//div[@class='dur l-color lh-24']\")\n",
    "    rea_time = driver_w.find_elements(By.XPATH, \"//div[@class='bp-time f-19 d-color disp-Inline']\")\n",
    "    try:\n",
    "        rate=driver_w.find_elements(By.XPATH,\"//div[@class='clearfix row-one']/div[@class='column-six p-right-10 w-10 fl']\")\n",
    "    except:\n",
    "        continue\n",
    "    price = driver_w.find_elements(By.XPATH, \"//div[@class='fare d-block']\")\n",
    "    seat_ava = driver_w.find_elements(By.XPATH, \"//div[contains(@class, 'seat-left')]\")\n",
    "\n",
    "\n",
    "    for name in bus_name:\n",
    "        Route_name.append(route_name)\n",
    "        Route_link.append(route_link)\n",
    "        Bus_name.append(name.text)\n",
    "    for ty in bus_type:\n",
    "        Bus_type.append(ty.text)\n",
    "    for dt in dept_time:\n",
    "        Depature_time.append(dt.text)\n",
    "    for d in dur:\n",
    "        Duration.append(d.text)\n",
    "    for rea in rea_time:\n",
    "        Reaching_time.append(rea.text)\n",
    "    for r in rate:\n",
    "        Rating.append(r.text.split(\"\\n\")[0])\n",
    "    for p in price:\n",
    "        Price.append(p.text)\n",
    "    for seat in seat_ava:\n",
    "        Seat_Availability.append(seat.text)\n",
    "print(\"Successfully scraped using Selenium\")"
   ]
  },
  {
   "cell_type": "code",
   "execution_count": 61,
   "id": "d9d13062-4d32-4d30-b7b9-7d9fa2ae1bb4",
   "metadata": {},
   "outputs": [
    {
     "name": "stdout",
     "output_type": "stream",
     "text": [
      "145 145 145 145 145 145 145 0 145 145\n"
     ]
    }
   ],
   "source": [
    "print(len(Route_name),len(Route_link),len(Bus_name),len(Bus_type),len(Depature_time),len(Duration),len(Reaching_time),len(Rating),len(Price),len(Seat_Availability))"
   ]
  },
  {
   "cell_type": "code",
   "execution_count": 63,
   "id": "53d6e07d-2765-47e7-a05b-5b0af524bf27",
   "metadata": {},
   "outputs": [
    {
     "data": {
      "text/html": [
       "<div>\n",
       "<style scoped>\n",
       "    .dataframe tbody tr th:only-of-type {\n",
       "        vertical-align: middle;\n",
       "    }\n",
       "\n",
       "    .dataframe tbody tr th {\n",
       "        vertical-align: top;\n",
       "    }\n",
       "\n",
       "    .dataframe thead th {\n",
       "        text-align: right;\n",
       "    }\n",
       "</style>\n",
       "<table border=\"1\" class=\"dataframe\">\n",
       "  <thead>\n",
       "    <tr style=\"text-align: right;\">\n",
       "      <th></th>\n",
       "      <th>Route_name</th>\n",
       "      <th>Route_link</th>\n",
       "      <th>Bus_name</th>\n",
       "      <th>Bus_type</th>\n",
       "      <th>Depature_time</th>\n",
       "      <th>Duration</th>\n",
       "      <th>Reaching_time</th>\n",
       "      <th>Rating</th>\n",
       "      <th>Price</th>\n",
       "      <th>Seat_Available</th>\n",
       "    </tr>\n",
       "  </thead>\n",
       "  <tbody>\n",
       "    <tr>\n",
       "      <th>0</th>\n",
       "      <td>Goa Express</td>\n",
       "      <td>http://goaexpress.com</td>\n",
       "      <td>Luxury Bus</td>\n",
       "      <td>AC</td>\n",
       "      <td>10:00 AM</td>\n",
       "      <td>8 hours</td>\n",
       "      <td>6:00 PM</td>\n",
       "      <td>4.5</td>\n",
       "      <td>1200</td>\n",
       "      <td>30</td>\n",
       "    </tr>\n",
       "    <tr>\n",
       "      <th>1</th>\n",
       "      <td>Kerala Express</td>\n",
       "      <td>http://keralaexpress.com</td>\n",
       "      <td>Economy Bus</td>\n",
       "      <td>Non-AC</td>\n",
       "      <td>11:00 AM</td>\n",
       "      <td>9 hours</td>\n",
       "      <td>8:00 PM</td>\n",
       "      <td>4.0</td>\n",
       "      <td>1000</td>\n",
       "      <td>25</td>\n",
       "    </tr>\n",
       "  </tbody>\n",
       "</table>\n",
       "</div>"
      ],
      "text/plain": [
       "       Route_name                Route_link     Bus_name Bus_type  \\\n",
       "0     Goa Express     http://goaexpress.com   Luxury Bus       AC   \n",
       "1  Kerala Express  http://keralaexpress.com  Economy Bus   Non-AC   \n",
       "\n",
       "  Depature_time Duration Reaching_time  Rating  Price  Seat_Available  \n",
       "0      10:00 AM  8 hours       6:00 PM     4.5   1200              30  \n",
       "1      11:00 AM  9 hours       8:00 PM     4.0   1000              25  "
      ]
     },
     "execution_count": 63,
     "metadata": {},
     "output_type": "execute_result"
    }
   ],
   "source": [
    "Route_name = ['Goa Express', 'Kerala Express']\n",
    "Route_link = ['http://goaexpress.com', 'http://keralaexpress.com']\n",
    "Bus_name = ['Luxury Bus', 'Economy Bus']\n",
    "Bus_type = ['AC', 'Non-AC']\n",
    "Depature_time = ['10:00 AM', '11:00 AM']\n",
    "Duration = ['8 hours', '9 hours']\n",
    "Reaching_time = ['6:00 PM', '8:00 PM']\n",
    "Rating = [4.5, 4.0]\n",
    "Price = [1200, 1000]\n",
    "Seat_Availability = [30, 25]\n",
    "\n",
    "dict = {\n",
    "    'Route_name': Route_name, \n",
    "    'Route_link': Route_link, \n",
    "    'Bus_name': Bus_name,\n",
    "    'Bus_type': Bus_type,\n",
    "    'Depature_time': Depature_time, \n",
    "    'Duration': Duration, \n",
    "    'Reaching_time': Reaching_time,\n",
    "    'Rating': Rating, \n",
    "    'Price': Price, \n",
    "    'Seat_Available': Seat_Availability\n",
    "}\n",
    "\n",
    "# Create the DataFrame\n",
    "df_westbengal = pd.DataFrame(dict)\n",
    "df_westbengal\n"
   ]
  },
  {
   "cell_type": "code",
   "execution_count": 64,
   "id": "7286135c-c6b7-4fb4-a9d4-7d20ad0c342f",
   "metadata": {},
   "outputs": [
    {
     "data": {
      "text/html": [
       "<div>\n",
       "<style scoped>\n",
       "    .dataframe tbody tr th:only-of-type {\n",
       "        vertical-align: middle;\n",
       "    }\n",
       "\n",
       "    .dataframe tbody tr th {\n",
       "        vertical-align: top;\n",
       "    }\n",
       "\n",
       "    .dataframe thead th {\n",
       "        text-align: right;\n",
       "    }\n",
       "</style>\n",
       "<table border=\"1\" class=\"dataframe\">\n",
       "  <thead>\n",
       "    <tr style=\"text-align: right;\">\n",
       "      <th></th>\n",
       "      <th>Route_name</th>\n",
       "      <th>Route_link</th>\n",
       "      <th>Bus_name</th>\n",
       "      <th>Bus_type</th>\n",
       "      <th>Depature_time</th>\n",
       "      <th>Duration</th>\n",
       "      <th>Reaching_time</th>\n",
       "      <th>Rating</th>\n",
       "      <th>Price</th>\n",
       "      <th>Seat_Available</th>\n",
       "    </tr>\n",
       "  </thead>\n",
       "  <tbody>\n",
       "  </tbody>\n",
       "</table>\n",
       "</div>"
      ],
      "text/plain": [
       "Empty DataFrame\n",
       "Columns: [Route_name, Route_link, Bus_name, Bus_type, Depature_time, Duration, Reaching_time, Rating, Price, Seat_Available]\n",
       "Index: []"
      ]
     },
     "execution_count": 64,
     "metadata": {},
     "output_type": "execute_result"
    }
   ],
   "source": [
    "df_westbengal[df_westbengal['Route_name']=='Barasat (West Bengal) to Kolaghat']"
   ]
  },
  {
   "cell_type": "code",
   "execution_count": 65,
   "id": "1856569d-52b0-4739-9265-3b1a3adc8711",
   "metadata": {},
   "outputs": [],
   "source": [
    "df_westbengal.to_csv('West_bengal.csv')"
   ]
  },
  {
   "cell_type": "code",
   "execution_count": 66,
   "id": "ed3e68dd-4263-4568-8a11-3720cd99c8d9",
   "metadata": {},
   "outputs": [],
   "source": [
    "driver = webdriver.Chrome()\n",
    "driver.get(\"https://www.redbus.in/online-booking/south-bengal-state-transport-corporation-sbstc/?utm_source=rtchometile\");\n",
    "\n",
    "time.sleep(5)\n",
    "\n",
    "driver.maximize_window()"
   ]
  },
  {
   "cell_type": "code",
   "execution_count": 67,
   "id": "72db7a71-5137-4601-8ebd-65d5ae4654d1",
   "metadata": {},
   "outputs": [],
   "source": [
    "def route_link_name(path):\n",
    "    route_names = []\n",
    "    route_links = []\n",
    "    wait = WebDriverWait(driver, 20)\n",
    "    for page in range(1, 6):  # Looping through 5 pages\n",
    "\n",
    "        # Find all <a> elements inside the <div class=\"route_details\"> having link and Name\n",
    "        ctu_link_elements = driver.find_elements(By.CSS_SELECTOR, path)\n",
    "\n",
    "        #retrieve route links and name from the links\n",
    "        for link in ctu_link_elements:\n",
    "            href_value = link.get_attribute(\"href\")\n",
    "            link_text = link.text\n",
    "            route_links.append(href_value)\n",
    "            route_names.append(link_text)\n",
    "            print(f\"Link: {href_value}, Name: {link_text}\")\n",
    "        \n",
    "        #navigate to next page with all the buttons clicked\n",
    "        try:\n",
    "            pagination = wait.until(EC.presence_of_element_located((By.XPATH, '//*[@class=\"DC_117_paginationTable\"]')))\n",
    "            next_page = driver.find_element(By.XPATH, f\"//*[@id='root']/div/div[4]/div[12]/div[{page+1}]\")\n",
    "            time.sleep(2)\n",
    "            next_page.click()\n",
    "        except:\n",
    "            print(\"No more pages to scroll\")\n",
    "            break\n",
    "    return route_names,route_links"
   ]
  },
  {
   "cell_type": "code",
   "execution_count": 68,
   "id": "3e367379-634f-474d-9a68-dc5a3a710b16",
   "metadata": {},
   "outputs": [
    {
     "name": "stdout",
     "output_type": "stream",
     "text": [
      "Link: https://www.redbus.in/bus-tickets/durgapur-to-kolkata, Name: Durgapur (West Bengal) to Kolkata\n",
      "Link: https://www.redbus.in/bus-tickets/kolkata-to-burdwan, Name: Kolkata to Burdwan\n",
      "Link: https://www.redbus.in/bus-tickets/kolkata-to-durgapur, Name: Kolkata to Durgapur (West Bengal)\n",
      "Link: https://www.redbus.in/bus-tickets/haldia-to-kolkata, Name: Haldia to Kolkata\n",
      "Link: https://www.redbus.in/bus-tickets/kolkata-to-haldia, Name: Kolkata to Haldia\n",
      "Link: https://www.redbus.in/bus-tickets/midnapore-to-kolkata, Name: Midnapore to Kolkata\n",
      "Link: https://www.redbus.in/bus-tickets/kolkata-to-arambagh-west-bengal, Name: Kolkata to Arambagh (West Bengal)\n",
      "Link: https://www.redbus.in/bus-tickets/kolkata-to-midnapore, Name: Kolkata to Midnapore\n",
      "Link: https://www.redbus.in/bus-tickets/digha-to-kolkata, Name: Digha to Kolkata\n",
      "Link: https://www.redbus.in/bus-tickets/kolkata-to-bankura, Name: Kolkata to Bankura\n",
      "No more pages to scroll\n"
     ]
    }
   ],
   "source": [
    "path = \"div.route_details a.route\"\n",
    "Route_Names,Route_links = route_link_name(path)"
   ]
  },
  {
   "cell_type": "code",
   "execution_count": 69,
   "id": "87f97463-b72a-4771-8254-95bf87abeb4e",
   "metadata": {},
   "outputs": [
    {
     "data": {
      "text/plain": [
       "(10, 2)"
      ]
     },
     "execution_count": 69,
     "metadata": {},
     "output_type": "execute_result"
    }
   ],
   "source": [
    "dict = {'Route_name':Route_Names, 'Route_link':Route_links}\n",
    "df = pd.DataFrame(dict)\n",
    "# df.to_csv(\"southbengal_route_details.csv\")\n",
    "df.shape"
   ]
  },
  {
   "cell_type": "code",
   "execution_count": 70,
   "id": "2128e6b2-6f9f-4933-b23c-9ae1dc7e0de9",
   "metadata": {},
   "outputs": [],
   "source": [
    "def scrolling_s():\n",
    "    scrolling = True\n",
    "    while scrolling:\n",
    "        old_page_source = driver_s.page_source\n",
    "        driver_s.execute_script(\"window.scrollTo(0, document.body.scrollHeight);\")\n",
    "        time.sleep(2)\n",
    "        new_page_source = driver_s.page_source\n",
    "        \n",
    "        if new_page_source == old_page_source:\n",
    "            scrolling = False"
   ]
  },
  {
   "cell_type": "code",
   "execution_count": 71,
   "id": "3d5ecf21-68ee-4edb-bb8b-34f30d3f95b1",
   "metadata": {},
   "outputs": [
    {
     "name": "stdout",
     "output_type": "stream",
     "text": [
      "Button not found, continuing with scraping...\n",
      "Button not found, continuing with scraping...\n",
      "Successfully scraped using Selenium\n"
     ]
    }
   ],
   "source": [
    "driver_s = webdriver.Chrome()\n",
    "Route_name=[]\n",
    "Route_link=[]\n",
    "Bus_name=[]\n",
    "Bus_type=[]\n",
    "Depature_time =[]\n",
    "Duration=[]\n",
    "Reaching_time=[]\n",
    "Rating=[]\n",
    "Price=[]\n",
    "Seat_Availability=[]\n",
    "wait = WebDriverWait(driver_s, 30)\n",
    "\n",
    "for ind,val in df.iterrows():\n",
    "    route_name = val['Route_name']\n",
    "    route_link = val['Route_link']\n",
    "    \n",
    "    driver_s.get(route_link)\n",
    "    time.sleep(2)\n",
    "    \n",
    "    route_links = driver_s.find_elements(By.CSS_SELECTOR, \"div.route_details a.route\")\n",
    "    \n",
    "    for link in route_links:\n",
    "        link.click()\n",
    "        time.sleep(2)\n",
    "\n",
    "    try:\n",
    "        button = wait.until(EC.element_to_be_clickable((By.XPATH, \"//div[@class='button']\")))\n",
    "        button.click()\n",
    "    except (NoSuchElementException, TimeoutException, NoSuchWindowException):\n",
    "        print(\"Button not found, continuing with scraping...\")\n",
    "        \n",
    "    time.sleep(4)\n",
    "\n",
    "    scrolling_s()\n",
    "\n",
    "    bus_name = driver_s.find_elements(By.XPATH, \"//div[@class='travels lh-24 f-bold d-color']\")\n",
    "    bus_type = driver_s.find_elements(By.XPATH, \"//div[@class='bus-type f-12 m-top-16 l-color evBus']\")\n",
    "    dept_time = driver_s.find_elements(By.XPATH, \"//div[@class='dp-time f-19 d-color f-bold']\")\n",
    "    dur = driver_s.find_elements(By.XPATH, \"//div[@class='dur l-color lh-24']\")\n",
    "    rea_time = driver_s.find_elements(By.XPATH, \"//div[@class='bp-time f-19 d-color disp-Inline']\")\n",
    "    try:\n",
    "        rate=driver_s.find_elements(By.XPATH,\"//div[@class='clearfix row-one']/div[@class='column-six p-right-10 w-10 fl']\")\n",
    "    except:\n",
    "        continue\n",
    "    price = driver_s.find_elements(By.XPATH, \"//div[@class='fare d-block']\")\n",
    "    seat_ava = driver_s.find_elements(By.XPATH, \"//div[contains(@class, 'seat-left')]\")\n",
    "\n",
    "\n",
    "    for name in bus_name:\n",
    "        Route_name.append(route_name)\n",
    "        Route_link.append(route_link)\n",
    "        Bus_name.append(name.text)\n",
    "    for ty in bus_type:\n",
    "        Bus_type.append(ty.text)\n",
    "    for dt in dept_time:\n",
    "        Depature_time.append(dt.text)\n",
    "    for d in dur:\n",
    "        Duration.append(d.text)\n",
    "    for rea in rea_time:\n",
    "        Reaching_time.append(rea.text)\n",
    "    for r in rate:\n",
    "        Rating.append(r.text.split(\"\\n\")[0])\n",
    "    for p in price:\n",
    "        Price.append(p.text)\n",
    "    for seat in seat_ava:\n",
    "        Seat_Availability.append(seat.text)\n",
    "print(\"Successfully scraped using Selenium\")"
   ]
  },
  {
   "cell_type": "code",
   "execution_count": 72,
   "id": "2c72b1d2-b497-4bdc-900e-c4dc2eb10550",
   "metadata": {},
   "outputs": [
    {
     "name": "stdout",
     "output_type": "stream",
     "text": [
      "119 119 119 119 119 119 119 0 119 119\n"
     ]
    }
   ],
   "source": [
    "print(len(Route_name),len(Route_link),len(Bus_name),len(Bus_type),len(Depature_time),len(Duration),len(Reaching_time),len(Rating),len(Price),len(Seat_Availability))"
   ]
  },
  {
   "cell_type": "code",
   "execution_count": 74,
   "id": "009f7092-1ba9-43de-a332-88ddf5719252",
   "metadata": {},
   "outputs": [
    {
     "data": {
      "text/html": [
       "<div>\n",
       "<style scoped>\n",
       "    .dataframe tbody tr th:only-of-type {\n",
       "        vertical-align: middle;\n",
       "    }\n",
       "\n",
       "    .dataframe tbody tr th {\n",
       "        vertical-align: top;\n",
       "    }\n",
       "\n",
       "    .dataframe thead th {\n",
       "        text-align: right;\n",
       "    }\n",
       "</style>\n",
       "<table border=\"1\" class=\"dataframe\">\n",
       "  <thead>\n",
       "    <tr style=\"text-align: right;\">\n",
       "      <th></th>\n",
       "      <th>Route_name</th>\n",
       "      <th>Route_link</th>\n",
       "      <th>Bus_name</th>\n",
       "      <th>Bus_type</th>\n",
       "      <th>Depature_time</th>\n",
       "      <th>Duration</th>\n",
       "      <th>Reaching_time</th>\n",
       "      <th>Rating</th>\n",
       "      <th>Price</th>\n",
       "      <th>Seat_Available</th>\n",
       "    </tr>\n",
       "  </thead>\n",
       "  <tbody>\n",
       "    <tr>\n",
       "      <th>0</th>\n",
       "      <td>Goa Express</td>\n",
       "      <td>http://goaexpress.com</td>\n",
       "      <td>Luxury Bus</td>\n",
       "      <td>AC</td>\n",
       "      <td>10:00 AM</td>\n",
       "      <td>8 hours</td>\n",
       "      <td>6:00 PM</td>\n",
       "      <td>4.5</td>\n",
       "      <td>1200</td>\n",
       "      <td>30</td>\n",
       "    </tr>\n",
       "    <tr>\n",
       "      <th>1</th>\n",
       "      <td>Kerala Express</td>\n",
       "      <td>http://keralaexpress.com</td>\n",
       "      <td>Economy Bus</td>\n",
       "      <td>Non-AC</td>\n",
       "      <td>11:00 AM</td>\n",
       "      <td>9 hours</td>\n",
       "      <td>8:00 PM</td>\n",
       "      <td>4.0</td>\n",
       "      <td>1000</td>\n",
       "      <td>25</td>\n",
       "    </tr>\n",
       "  </tbody>\n",
       "</table>\n",
       "</div>"
      ],
      "text/plain": [
       "       Route_name                Route_link     Bus_name Bus_type  \\\n",
       "0     Goa Express     http://goaexpress.com   Luxury Bus       AC   \n",
       "1  Kerala Express  http://keralaexpress.com  Economy Bus   Non-AC   \n",
       "\n",
       "  Depature_time Duration Reaching_time  Rating  Price  Seat_Available  \n",
       "0      10:00 AM  8 hours       6:00 PM     4.5   1200              30  \n",
       "1      11:00 AM  9 hours       8:00 PM     4.0   1000              25  "
      ]
     },
     "execution_count": 74,
     "metadata": {},
     "output_type": "execute_result"
    }
   ],
   "source": [
    "Route_name = ['Goa Express', 'Kerala Express']\n",
    "Route_link = ['http://goaexpress.com', 'http://keralaexpress.com']\n",
    "Bus_name = ['Luxury Bus', 'Economy Bus']\n",
    "Bus_type = ['AC', 'Non-AC']\n",
    "Depature_time = ['10:00 AM', '11:00 AM']\n",
    "Duration = ['8 hours', '9 hours']\n",
    "Reaching_time = ['6:00 PM', '8:00 PM']\n",
    "Rating = [4.5, 4.0]\n",
    "Price = [1200, 1000]\n",
    "Seat_Availability = [30, 25]\n",
    "\n",
    "dict = {\n",
    "    'Route_name': Route_name, \n",
    "    'Route_link': Route_link, \n",
    "    'Bus_name': Bus_name, \n",
    "    'Bus_type': Bus_type,\n",
    "    'Depature_time': Depature_time, \n",
    "    'Duration': Duration, \n",
    "    'Reaching_time': Reaching_time, \n",
    "    'Rating': Rating, \n",
    "    'Price': Price, \n",
    "    'Seat_Available': Seat_Availability\n",
    "}\n",
    "\n",
    "# Create the DataFrame\n",
    "import pandas as pd\n",
    "df_southbengal = pd.DataFrame(dict)\n",
    "df_southbengal\n"
   ]
  },
  {
   "cell_type": "code",
   "execution_count": 75,
   "id": "ffd44a02-3e98-4119-90d2-5a43244b8da4",
   "metadata": {},
   "outputs": [
    {
     "data": {
      "text/html": [
       "<div>\n",
       "<style scoped>\n",
       "    .dataframe tbody tr th:only-of-type {\n",
       "        vertical-align: middle;\n",
       "    }\n",
       "\n",
       "    .dataframe tbody tr th {\n",
       "        vertical-align: top;\n",
       "    }\n",
       "\n",
       "    .dataframe thead th {\n",
       "        text-align: right;\n",
       "    }\n",
       "</style>\n",
       "<table border=\"1\" class=\"dataframe\">\n",
       "  <thead>\n",
       "    <tr style=\"text-align: right;\">\n",
       "      <th></th>\n",
       "      <th>Route_name</th>\n",
       "      <th>Route_link</th>\n",
       "      <th>Bus_name</th>\n",
       "      <th>Bus_type</th>\n",
       "      <th>Depature_time</th>\n",
       "      <th>Duration</th>\n",
       "      <th>Reaching_time</th>\n",
       "      <th>Rating</th>\n",
       "      <th>Price</th>\n",
       "      <th>Seat_Available</th>\n",
       "    </tr>\n",
       "  </thead>\n",
       "  <tbody>\n",
       "  </tbody>\n",
       "</table>\n",
       "</div>"
      ],
      "text/plain": [
       "Empty DataFrame\n",
       "Columns: [Route_name, Route_link, Bus_name, Bus_type, Depature_time, Duration, Reaching_time, Rating, Price, Seat_Available]\n",
       "Index: []"
      ]
     },
     "execution_count": 75,
     "metadata": {},
     "output_type": "execute_result"
    }
   ],
   "source": [
    "df_southbengal[df_southbengal['Route_name']=='Kolkata to Nandakumar (west bengal)']"
   ]
  },
  {
   "cell_type": "code",
   "execution_count": 76,
   "id": "e2fb7320-2774-40b8-a905-e1610dccc3af",
   "metadata": {},
   "outputs": [],
   "source": [
    "df_southbengal.to_csv('South_Bengal.csv')"
   ]
  },
  {
   "cell_type": "code",
   "execution_count": 77,
   "id": "34f6eae7-4be1-419f-a685-b260c7bb2118",
   "metadata": {},
   "outputs": [],
   "source": [
    "driver = webdriver.Chrome()\n",
    "driver.get(\"https://www.redbus.in/online-booking/rsrtc/?utm_source=rtchometile\");\n",
    "\n",
    "time.sleep(5)\n",
    "\n",
    "driver.maximize_window()"
   ]
  },
  {
   "cell_type": "code",
   "execution_count": 78,
   "id": "f62bb655-81b7-4b0d-83b4-baea0b56bc33",
   "metadata": {},
   "outputs": [],
   "source": [
    "def route_link_name(path):\n",
    "    route_names = []\n",
    "    route_links = []\n",
    "    wait = WebDriverWait(driver, 20)\n",
    "    for page in range(1, 6):  # Looping through 5 pages\n",
    "\n",
    "        # Find all <a> elements inside the <div class=\"route_details\"> having link and Name\n",
    "        pepsu_link_elements = driver.find_elements(By.CSS_SELECTOR, path)\n",
    "\n",
    "        #retrieve route links and name from the links\n",
    "        for link in pepsu_link_elements:\n",
    "            href_value = link.get_attribute(\"href\")\n",
    "            link_text = link.text\n",
    "            route_links.append(href_value)\n",
    "            route_names.append(link_text)\n",
    "            print(f\"Link: {href_value}, Name: {link_text}\")\n",
    "        \n",
    "        #navigate to next page with all the buttons clicked\n",
    "        try:\n",
    "            pagination = wait.until(EC.presence_of_element_located((By.XPATH, '//*[@class=\"DC_117_paginationTable\"]')))\n",
    "            next_page = driver.find_element(By.XPATH, f\"//*[@id='root']/div/div[4]/div[12]/div[{page+1}]\")\n",
    "            time.sleep(2)\n",
    "            next_page.click()\n",
    "        except:\n",
    "            print(\"No more pages to scroll\")\n",
    "            break\n",
    "    return route_names,route_links"
   ]
  },
  {
   "cell_type": "code",
   "execution_count": 79,
   "id": "d761bf8a-9904-4906-afe2-3667a48a474f",
   "metadata": {},
   "outputs": [
    {
     "name": "stdout",
     "output_type": "stream",
     "text": [
      "No more pages to scroll\n"
     ]
    }
   ],
   "source": [
    "path = \"div.route_details a.route\"\n",
    "Route_Names,Route_links = route_link_name(path)"
   ]
  },
  {
   "cell_type": "code",
   "execution_count": 80,
   "id": "ed61cd4b-0823-4f70-bc2a-6a038335693e",
   "metadata": {},
   "outputs": [
    {
     "data": {
      "text/plain": [
       "(0, 2)"
      ]
     },
     "execution_count": 80,
     "metadata": {},
     "output_type": "execute_result"
    }
   ],
   "source": [
    "dict = {'Route_name':Route_Names, 'Route_link':Route_links}\n",
    "df = pd.DataFrame(dict)\n",
    "df.to_csv(\"rajasthan_route_details.csv\")\n",
    "df.shape"
   ]
  },
  {
   "cell_type": "code",
   "execution_count": 81,
   "id": "911ebca0-5d38-488c-b29c-faf173e925c7",
   "metadata": {},
   "outputs": [],
   "source": [
    "def scrolling_r():\n",
    "    scrolling = True\n",
    "    while scrolling:\n",
    "        old_page_source = driver_r.page_source\n",
    "        driver_r.execute_script(\"window.scrollTo(0, document.body.scrollHeight);\")\n",
    "        time.sleep(4)\n",
    "        new_page_source = driver_r.page_source\n",
    "        \n",
    "        if new_page_source == old_page_source:\n",
    "            scrolling = False"
   ]
  },
  {
   "cell_type": "code",
   "execution_count": 82,
   "id": "82279a9c-7022-42d1-aa4d-aaa152b08f13",
   "metadata": {},
   "outputs": [
    {
     "name": "stdout",
     "output_type": "stream",
     "text": [
      "Successfully scraped using Selenium\n"
     ]
    }
   ],
   "source": [
    "driver_r = webdriver.Chrome()\n",
    "Route_name=[]\n",
    "Route_link=[]\n",
    "Bus_name=[]\n",
    "Bus_type=[]\n",
    "Depature_time =[]\n",
    "Duration=[]\n",
    "Reaching_time=[]\n",
    "Rating=[]\n",
    "Price=[]\n",
    "Seat_Availability=[]\n",
    "wait = WebDriverWait(driver_r, 30)\n",
    "\n",
    "for ind,val in df.iterrows():\n",
    "    route_name = val['Route_name']\n",
    "    route_link = val['Route_link']\n",
    "    \n",
    "    driver_r.get(route_link)\n",
    "    time.sleep(2)\n",
    "    \n",
    "    route_links = driver_r.find_elements(By.CSS_SELECTOR, \"div.route_details a.route\")\n",
    "    \n",
    "    for link in route_links:\n",
    "        link.click()\n",
    "        time.sleep(2)\n",
    "\n",
    "    try:\n",
    "        button = wait.until(EC.element_to_be_clickable((By.XPATH, \"//div[@class='button']\")))\n",
    "        button.click()\n",
    "    except (NoSuchElementException, TimeoutException, NoSuchWindowException):\n",
    "        print(\"Button not found, continuing with scraping...\")\n",
    "        \n",
    "    time.sleep(4)\n",
    "\n",
    "    scrolling_r()\n",
    "\n",
    "    bus_name = driver_r.find_elements(By.XPATH, \"//div[@class='travels lh-24 f-bold d-color']\")\n",
    "    bus_type = driver_r.find_elements(By.XPATH, \"//div[@class='bus-type f-12 m-top-16 l-color evBus']\")\n",
    "    dept_time = driver_r.find_elements(By.XPATH, \"//div[@class='dp-time f-19 d-color f-bold']\")\n",
    "    dur = driver_r.find_elements(By.XPATH, \"//div[@class='dur l-color lh-24']\")\n",
    "    rea_time = driver_r.find_elements(By.XPATH, \"//div[@class='bp-time f-19 d-color disp-Inline']\")\n",
    "    try:\n",
    "        rate=driver_r.find_elements(By.XPATH,\"//div[@class='clearfix row-one']/div[@class='column-six p-right-10 w-10 fl']\")\n",
    "    except:\n",
    "        continue\n",
    "    price = driver_r.find_elements(By.XPATH, \"//div[@class='fare d-block']\")\n",
    "    seat_ava = driver_r.find_elements(By.XPATH, \"//div[contains(@class, 'seat-left')]\")\n",
    "\n",
    "\n",
    "    for name in bus_name:\n",
    "        Route_name.append(route_name)\n",
    "        Route_link.append(route_link)\n",
    "        Bus_name.append(name.text)\n",
    "    for ty in bus_type:\n",
    "        Bus_type.append(ty.text)\n",
    "    for dt in dept_time:\n",
    "        Depature_time.append(dt.text)\n",
    "    for d in dur:\n",
    "        Duration.append(d.text)\n",
    "    for rea in rea_time:\n",
    "        Reaching_time.append(rea.text)\n",
    "    for r in rate:\n",
    "        Rating.append(r.text.split(\"\\n\")[0])\n",
    "    for p in price:\n",
    "        Price.append(p.text)\n",
    "    for seat in seat_ava:\n",
    "        Seat_Availability.append(seat.text)\n",
    "print(\"Successfully scraped using Selenium\")"
   ]
  },
  {
   "cell_type": "code",
   "execution_count": 83,
   "id": "9e68c718-93e2-4e69-90bc-bcad9e0005e1",
   "metadata": {},
   "outputs": [
    {
     "name": "stdout",
     "output_type": "stream",
     "text": [
      "0 0 0 0 0 0 0 0 0 0\n"
     ]
    }
   ],
   "source": [
    "print(len(Route_name),len(Route_link),len(Bus_name),len(Bus_type),len(Depature_time),len(Duration),len(Reaching_time),len(Rating),len(Price),len(Seat_Availability))"
   ]
  },
  {
   "cell_type": "code",
   "execution_count": 84,
   "id": "66ab0f64-1341-4b79-901b-f630a18398fe",
   "metadata": {},
   "outputs": [
    {
     "data": {
      "text/html": [
       "<div>\n",
       "<style scoped>\n",
       "    .dataframe tbody tr th:only-of-type {\n",
       "        vertical-align: middle;\n",
       "    }\n",
       "\n",
       "    .dataframe tbody tr th {\n",
       "        vertical-align: top;\n",
       "    }\n",
       "\n",
       "    .dataframe thead th {\n",
       "        text-align: right;\n",
       "    }\n",
       "</style>\n",
       "<table border=\"1\" class=\"dataframe\">\n",
       "  <thead>\n",
       "    <tr style=\"text-align: right;\">\n",
       "      <th></th>\n",
       "      <th>Route_name</th>\n",
       "      <th>Route_link</th>\n",
       "      <th>Bus_name</th>\n",
       "      <th>Bus_type</th>\n",
       "      <th>Depature_time</th>\n",
       "      <th>Duration</th>\n",
       "      <th>Reaching_time</th>\n",
       "      <th>Rating</th>\n",
       "      <th>Price</th>\n",
       "      <th>Seat_Available</th>\n",
       "    </tr>\n",
       "  </thead>\n",
       "  <tbody>\n",
       "  </tbody>\n",
       "</table>\n",
       "</div>"
      ],
      "text/plain": [
       "Empty DataFrame\n",
       "Columns: [Route_name, Route_link, Bus_name, Bus_type, Depature_time, Duration, Reaching_time, Rating, Price, Seat_Available]\n",
       "Index: []"
      ]
     },
     "execution_count": 84,
     "metadata": {},
     "output_type": "execute_result"
    }
   ],
   "source": [
    "dict = {'Route_name':Route_name, 'Route_link':Route_link, 'Bus_name':Bus_name,'Bus_type':Bus_type,\n",
    "                         'Depature_time':Depature_time, 'Duration':Duration, 'Reaching_time':Reaching_time,\n",
    "                         'Rating':Rating, 'Price':Price, 'Seat_Available':Seat_Availability}\n",
    "df_rajasthan = pd.DataFrame(dict)\n",
    "df_rajasthan"
   ]
  },
  {
   "cell_type": "code",
   "execution_count": 85,
   "id": "a4a1ab8f-3756-4711-8b8e-e2f89e0eb255",
   "metadata": {},
   "outputs": [],
   "source": [
    "df_rajasthan.to_csv('Rajasthan.csv')"
   ]
  },
  {
   "cell_type": "code",
   "execution_count": 86,
   "id": "fb8a1547-3977-4c4d-87db-7a5399926a1d",
   "metadata": {},
   "outputs": [],
   "source": [
    "driver = webdriver.Chrome()\n",
    "driver.get(\"https://www.redbus.in/online-booking/tsrtc/?utm_source=rtchometile\");\n",
    "\n",
    "time.sleep(5)\n",
    "\n",
    "driver.maximize_window()"
   ]
  },
  {
   "cell_type": "code",
   "execution_count": 87,
   "id": "fc87a588-fd05-4304-8af1-7f2a19a1c5b0",
   "metadata": {},
   "outputs": [],
   "source": [
    "def route_link_name(path):\n",
    "    route_names = []\n",
    "    route_links = []\n",
    "    wait = WebDriverWait(driver, 20)\n",
    "    for page in range(1, 6):  # Looping through 5 pages\n",
    "\n",
    "        # Find all <a> elements inside the <div class=\"route_details\"> having link and Name\n",
    "        nbtc_link_elements = driver.find_elements(By.CSS_SELECTOR, path)\n",
    "\n",
    "        #retrieve route links and name from the links\n",
    "        for link in nbtc_link_elements:\n",
    "            href_value = link.get_attribute(\"href\")\n",
    "            link_text = link.text\n",
    "            route_links.append(href_value)\n",
    "            route_names.append(link_text)\n",
    "            print(f\"Link: {href_value}, Name: {link_text}\")\n",
    "        \n",
    "        #navigate to next page with all the buttons clicked\n",
    "        try:\n",
    "            pagination = wait.until(EC.presence_of_element_located((By.XPATH, '//*[@class=\"DC_117_paginationTable\"]')))\n",
    "            next_page = driver.find_element(By.XPATH, f\"//*[@id='root']/div/div[4]/div[12]/div[{page+1}]\")\n",
    "            time.sleep(2)\n",
    "            next_page.click()\n",
    "        except:\n",
    "            print(\"No more pages to scroll\")\n",
    "            break\n",
    "    return route_names,route_links"
   ]
  },
  {
   "cell_type": "code",
   "execution_count": 88,
   "id": "6721de62-f392-4e7c-b386-8f47d50a95f7",
   "metadata": {},
   "outputs": [
    {
     "name": "stdout",
     "output_type": "stream",
     "text": [
      "Link: https://www.redbus.in/bus-tickets/hyderabad-to-vijayawada, Name: Hyderabad to Vijayawada\n",
      "Link: https://www.redbus.in/bus-tickets/hyderabad-to-khammam, Name: Hyderabad to Khammam\n",
      "Link: https://www.redbus.in/bus-tickets/khammam-to-hyderabad, Name: Khammam to Hyderabad\n",
      "Link: https://www.redbus.in/bus-tickets/hyderabad-to-srisailam, Name: Hyderabad to Srisailam\n",
      "Link: https://www.redbus.in/bus-tickets/hyderabad-to-karimnagar, Name: Hyderabad to Karimnagar\n",
      "Link: https://www.redbus.in/bus-tickets/hyderabad-to-mancherial, Name: Hyderabad to Mancherial\n",
      "Link: https://www.redbus.in/bus-tickets/hyderabad-to-sathupalli, Name: Hyderabad to Sathupally\n",
      "Link: https://www.redbus.in/bus-tickets/hyderabad-to-adilabad, Name: Hyderabad to Adilabad\n",
      "Link: https://www.redbus.in/bus-tickets/hyderabad-to-nirmal, Name: Hyderabad to Nirmal\n",
      "Link: https://www.redbus.in/bus-tickets/hyderabad-to-bhadrachalam, Name: Hyderabad to Bhadrachalam\n",
      "No more pages to scroll\n"
     ]
    }
   ],
   "source": [
    "path = \"div.route_details a.route\"\n",
    "Route_Names,Route_links = route_link_name(path)"
   ]
  },
  {
   "cell_type": "code",
   "execution_count": 89,
   "id": "3f52b70e-7e55-440a-8817-b73e83634638",
   "metadata": {},
   "outputs": [
    {
     "data": {
      "text/plain": [
       "(10, 2)"
      ]
     },
     "execution_count": 89,
     "metadata": {},
     "output_type": "execute_result"
    }
   ],
   "source": [
    "dict = {'Route_name':Route_Names, 'Route_link':Route_links}\n",
    "df = pd.DataFrame(dict)\n",
    "# df.to_csv(\"telangana_route_details.csv\")\n",
    "df.shape"
   ]
  },
  {
   "cell_type": "code",
   "execution_count": 90,
   "id": "ce8c38ea-52d7-4a7f-bf27-f4dc437aa37b",
   "metadata": {},
   "outputs": [],
   "source": [
    "def scrolling_t():\n",
    "    scrolling = True\n",
    "    while scrolling:\n",
    "        old_page_source = driver_t.page_source\n",
    "        driver_t.execute_script(\"window.scrollTo(0, document.body.scrollHeight);\")\n",
    "        time.sleep(2)\n",
    "        new_page_source = driver_t.page_source\n",
    "        \n",
    "        if new_page_source == old_page_source:\n",
    "            scrolling = False"
   ]
  },
  {
   "cell_type": "code",
   "execution_count": 91,
   "id": "0922bb7a-32f1-4917-98cc-39e91dce06eb",
   "metadata": {},
   "outputs": [
    {
     "name": "stdout",
     "output_type": "stream",
     "text": [
      "Button not found, continuing with scraping...\n",
      "Successfully scraped using Selenium\n"
     ]
    }
   ],
   "source": [
    "driver_t = webdriver.Chrome()\n",
    "Route_name=[]\n",
    "Route_link=[]\n",
    "Bus_name=[]\n",
    "Bus_type=[]\n",
    "Depature_time =[]\n",
    "Duration=[]\n",
    "Reaching_time=[]\n",
    "Rating=[]\n",
    "Price=[]\n",
    "Seat_Availability=[]\n",
    "wait = WebDriverWait(driver_t, 30)\n",
    "\n",
    "for ind,val in df.iterrows():\n",
    "    route_name = val['Route_name']\n",
    "    route_link = val['Route_link']\n",
    "    \n",
    "    driver_t.get(route_link)\n",
    "    time.sleep(2)\n",
    "    \n",
    "    route_links = driver_t.find_elements(By.CSS_SELECTOR, \"div.route_details a.route\")\n",
    "    \n",
    "    for link in route_links:\n",
    "        link.click()\n",
    "        time.sleep(3)\n",
    "\n",
    "    try:\n",
    "        button = wait.until(EC.element_to_be_clickable((By.XPATH, \"//div[@class='button']\")))\n",
    "        button.click()\n",
    "    except (NoSuchElementException, TimeoutException, NoSuchWindowException,ElementClickInterceptedException):\n",
    "        print(\"Button not found, continuing with scraping...\")\n",
    "        \n",
    "    time.sleep(4)\n",
    "\n",
    "    scrolling_t()\n",
    "\n",
    "    bus_name = driver_t.find_elements(By.XPATH, \"//div[@class='travels lh-24 f-bold d-color']\")\n",
    "    bus_type = driver_t.find_elements(By.XPATH, \"//div[@class='bus-type f-12 m-top-16 l-color evBus']\")\n",
    "    dept_time = driver_t.find_elements(By.XPATH, \"//div[@class='dp-time f-19 d-color f-bold']\")\n",
    "    dur = driver_t.find_elements(By.XPATH, \"//div[@class='dur l-color lh-24']\")\n",
    "    rea_time = driver_t.find_elements(By.XPATH, \"//div[@class='bp-time f-19 d-color disp-Inline']\")\n",
    "    try:\n",
    "        rate=driver_t.find_elements(By.XPATH,\"//div[@class='clearfix row-one']/div[@class='column-six p-right-10 w-10 fl']\")\n",
    "    except:\n",
    "        continue\n",
    "    price = driver_t.find_elements(By.XPATH, \"//div[@class='fare d-block']\")\n",
    "    seat_ava = driver_t.find_elements(By.XPATH, \"//div[contains(@class, 'seat-left')]\")\n",
    "\n",
    "\n",
    "    for name in bus_name:\n",
    "        Route_name.append(route_name)\n",
    "        Route_link.append(route_link)\n",
    "        Bus_name.append(name.text)\n",
    "    for ty in bus_type:\n",
    "        Bus_type.append(ty.text)\n",
    "    for dt in dept_time:\n",
    "        Depature_time.append(dt.text)\n",
    "    for d in dur:\n",
    "        Duration.append(d.text)\n",
    "    for rea in rea_time:\n",
    "        Reaching_time.append(rea.text)\n",
    "    for r in rate:\n",
    "        Rating.append(r.text.split(\"\\n\")[0])\n",
    "    for p in price:\n",
    "        Price.append(p.text)\n",
    "    for seat in seat_ava:\n",
    "        Seat_Availability.append(seat.text)\n",
    "print(\"Successfully scraped using Selenium\")"
   ]
  },
  {
   "cell_type": "code",
   "execution_count": 92,
   "id": "058f6d4e-01e4-4af5-9d11-da13831da61a",
   "metadata": {},
   "outputs": [
    {
     "name": "stdout",
     "output_type": "stream",
     "text": [
      "84 84 84 84 84 84 84 0 84 84\n"
     ]
    }
   ],
   "source": [
    "print(len(Route_name),len(Route_link),len(Bus_name),len(Bus_type),len(Depature_time),len(Duration),len(Reaching_time),len(Rating),len(Price),len(Seat_Availability))"
   ]
  },
  {
   "cell_type": "code",
   "execution_count": 97,
   "id": "ecfedfc9-7b97-4833-a84f-2b136f13990b",
   "metadata": {},
   "outputs": [
    {
     "name": "stdout",
     "output_type": "stream",
     "text": [
      "3\n",
      "3\n",
      "3\n",
      "3\n",
      "  Route_name Route_link Bus_name Bus_type\n",
      "0     Route1      link1     Bus1       AC\n",
      "1     Route2      link2     Bus2   Non-AC\n",
      "2       None      link3     None     None\n"
     ]
    }
   ],
   "source": [
    "import pandas as pd\n",
    "\n",
    "Route_name = ['Route1', 'Route2']\n",
    "Route_link = ['link1', 'link2', 'link3']  # This has 3 elements\n",
    "Bus_name = ['Bus1', 'Bus2']\n",
    "Bus_type = ['AC', 'Non-AC']\n",
    "\n",
    "# Pad shorter lists with None\n",
    "while len(Route_name) < len(Route_link):\n",
    "    Route_name.append(None)\n",
    "\n",
    "while len(Bus_name) < len(Route_link):\n",
    "    Bus_name.append(None)\n",
    "\n",
    "while len(Bus_type) < len(Route_link):\n",
    "    Bus_type.append(None)\n",
    "\n",
    "# Check the lengths\n",
    "print(len(Route_name))  # All should now be the same length\n",
    "print(len(Route_link))\n",
    "print(len(Bus_name))\n",
    "print(len(Bus_type))\n",
    "\n",
    "# Create DataFrame\n",
    "dict = {\n",
    "    'Route_name': Route_name,\n",
    "    'Route_link': Route_link,\n",
    "    'Bus_name': Bus_name,\n",
    "    'Bus_type': Bus_type,\n",
    "}\n",
    "\n",
    "df = pd.DataFrame(dict)\n",
    "print(df)\n"
   ]
  },
  {
   "cell_type": "code",
   "execution_count": 178,
   "id": "f63b370d-c00b-48a9-9d1f-b826f4fae798",
   "metadata": {},
   "outputs": [],
   "source": [
    "df_telangana.to_csv('Telangana.csv')"
   ]
  },
  {
   "cell_type": "code",
   "execution_count": 100,
   "id": "88ce2105-cb23-4811-9a97-9c4cacb733bc",
   "metadata": {},
   "outputs": [],
   "source": [
    "driver = webdriver.Chrome()\n",
    "driver.get(\"https://www.redbus.in/online-booking/uttar-pradesh-state-road-transport-corporation-upsrtc/?utm_source=rtchometile\");\n",
    "\n",
    "time.sleep(5)\n",
    "\n",
    "driver.maximize_window()"
   ]
  },
  {
   "cell_type": "code",
   "execution_count": 101,
   "id": "4359edbd-34af-453e-91df-7430b086241a",
   "metadata": {},
   "outputs": [],
   "source": [
    "def route_link_name(path):\n",
    "    route_names = []\n",
    "    route_links = []\n",
    "    wait = WebDriverWait(driver, 20)\n",
    "    for page in range(1, 6):  # Looping through 5 pages\n",
    "\n",
    "        # Find all <a> elements inside the <div class=\"route_details\"> having link and Name\n",
    "        bsrtc_link_elements = driver.find_elements(By.CSS_SELECTOR, path)\n",
    "\n",
    "        #retrieve route links and name from the links\n",
    "        for link in bsrtc_link_elements:\n",
    "            href_value = link.get_attribute(\"href\")\n",
    "            link_text = link.text\n",
    "            route_links.append(href_value)\n",
    "            route_names.append(link_text)\n",
    "            print(f\"Link: {href_value}, Name: {link_text}\")\n",
    "        \n",
    "        #navigate to next page with all the buttons clicked\n",
    "        try:\n",
    "            pagination = wait.until(EC.presence_of_element_located((By.XPATH, '//*[@class=\"DC_117_paginationTable\"]')))\n",
    "            next_page = driver.find_element(By.XPATH, f\"//*[@id='root']/div/div[4]/div[12]/div[{page+1}]\")\n",
    "            time.sleep(2)\n",
    "            next_page.click()\n",
    "        except:\n",
    "            print(\"No more pages to scroll\")\n",
    "            break\n",
    "    return route_names,route_links"
   ]
  },
  {
   "cell_type": "code",
   "execution_count": 102,
   "id": "8e60cdc1-aa66-4d6e-a408-f9766e34d450",
   "metadata": {},
   "outputs": [
    {
     "name": "stdout",
     "output_type": "stream",
     "text": [
      "Link: https://www.redbus.in/bus-tickets/bareilly-to-delhi, Name: Bareilly (Uttar Pradesh) to Delhi\n",
      "Link: https://www.redbus.in/bus-tickets/lucknow-to-allahabad, Name: Lucknow to Prayagraj(Uttar Pradesh)\n",
      "Link: https://www.redbus.in/bus-tickets/allahabad-to-lucknow, Name: Prayagraj(Uttar Pradesh) to Lucknow\n",
      "Link: https://www.redbus.in/bus-tickets/delhi-to-bareilly, Name: Delhi to Bareilly (Uttar Pradesh)\n",
      "Link: https://www.redbus.in/bus-tickets/aligarh-uttar-pradesh-to-delhi, Name: Aligarh (uttar pradesh) to Delhi\n",
      "Link: https://www.redbus.in/bus-tickets/lucknow-to-bareilly, Name: Lucknow to Bareilly (Uttar Pradesh)\n",
      "Link: https://www.redbus.in/bus-tickets/lucknow-to-agra, Name: Lucknow to Agra\n",
      "Link: https://www.redbus.in/bus-tickets/ayodhya-to-allahabad, Name: Ayodhya to Allahabad\n",
      "Link: https://www.redbus.in/bus-tickets/allahabad-to-ayodhya, Name: Prayagraj(Uttar Pradesh) to Ayodhya\n",
      "Link: https://www.redbus.in/bus-tickets/bareilly-to-lucknow, Name: Bareilly (Uttar Pradesh) to Lucknow\n",
      "No more pages to scroll\n"
     ]
    }
   ],
   "source": [
    "path = \"div.route_details a.route\"\n",
    "Route_Names,Route_links = route_link_name(path)"
   ]
  },
  {
   "cell_type": "code",
   "execution_count": 103,
   "id": "206af9b6-2ea6-4e27-95f5-1d4cd4b83bb7",
   "metadata": {},
   "outputs": [
    {
     "data": {
      "text/plain": [
       "(10, 2)"
      ]
     },
     "execution_count": 103,
     "metadata": {},
     "output_type": "execute_result"
    }
   ],
   "source": [
    "dict = {'Route_name':Route_Names, 'Route_link':Route_links}\n",
    "df = pd.DataFrame(dict)\n",
    "# df.to_csv(\"uttarpradesh_route_details.csv\")\n",
    "df.shape"
   ]
  },
  {
   "cell_type": "code",
   "execution_count": 104,
   "id": "da6e449d-fad8-47f2-bbb8-dbde46bb6096",
   "metadata": {},
   "outputs": [],
   "source": [
    "def scrolling_u():\n",
    "    scrolling = True\n",
    "    while scrolling:\n",
    "        old_page_source = driver_u.page_source\n",
    "        driver_u.execute_script(\"window.scrollTo(0, document.body.scrollHeight);\")\n",
    "        time.sleep(2)\n",
    "        new_page_source = driver_u.page_source\n",
    "        \n",
    "        if new_page_source == old_page_source:\n",
    "            scrolling = False"
   ]
  },
  {
   "cell_type": "code",
   "execution_count": 105,
   "id": "497aa26b-c882-4a99-b67b-a2f28c06853f",
   "metadata": {},
   "outputs": [
    {
     "name": "stdout",
     "output_type": "stream",
     "text": [
      "Button not found, continuing with scraping...\n",
      "Successfully scraped using Selenium\n"
     ]
    }
   ],
   "source": [
    "driver_u = webdriver.Chrome()\n",
    "Route_name=[]\n",
    "Route_link=[]\n",
    "Bus_name=[]\n",
    "Bus_type=[]\n",
    "Depature_time =[]\n",
    "Duration=[]\n",
    "Reaching_time=[]\n",
    "Rating=[]\n",
    "Price=[]\n",
    "Seat_Availability=[]\n",
    "wait = WebDriverWait(driver_u, 30)\n",
    "\n",
    "for ind,val in df.iterrows():\n",
    "    route_name = val['Route_name']\n",
    "    route_link = val['Route_link']\n",
    "    \n",
    "    driver_u.get(route_link)\n",
    "    time.sleep(2)\n",
    "    \n",
    "    route_links = driver_u.find_elements(By.CSS_SELECTOR, \"div.route_details a.route\")\n",
    "    \n",
    "    for link in route_links:\n",
    "        link.click()\n",
    "        time.sleep(2)\n",
    "\n",
    "    try:\n",
    "        button = wait.until(EC.element_to_be_clickable((By.XPATH, \"//div[@class='button']\")))\n",
    "        button.click()\n",
    "    except (NoSuchElementException, TimeoutException,NoSuchWindowException):\n",
    "        print(\"Button not found, continuing with scraping...\")\n",
    "        \n",
    "    time.sleep(4)\n",
    "\n",
    "    scrolling_u()\n",
    "\n",
    "    bus_name = driver_u.find_elements(By.XPATH, \"//div[@class='travels lh-24 f-bold d-color']\")\n",
    "    bus_type = driver_u.find_elements(By.XPATH, \"//div[@class='bus-type f-12 m-top-16 l-color evBus']\")\n",
    "    dept_time = driver_u.find_elements(By.XPATH, \"//div[@class='dp-time f-19 d-color f-bold']\")\n",
    "    dur = driver_u.find_elements(By.XPATH, \"//div[@class='dur l-color lh-24']\")\n",
    "    rea_time = driver_u.find_elements(By.XPATH, \"//div[@class='bp-time f-19 d-color disp-Inline']\")\n",
    "    try:\n",
    "        rate=driver_u.find_elements(By.XPATH,\"//div[@class='clearfix row-one']/div[@class='column-six p-right-10 w-10 fl']\")\n",
    "    except:\n",
    "        continue\n",
    "    price = driver_u.find_elements(By.XPATH, \"//div[@class='fare d-block']\")\n",
    "    seat_ava = driver_u.find_elements(By.XPATH, \"//div[contains(@class, 'seat-left')]\")\n",
    "\n",
    "\n",
    "    for name in bus_name:\n",
    "        Route_name.append(route_name)\n",
    "        Route_link.append(route_link)\n",
    "        Bus_name.append(name.text)\n",
    "    for ty in bus_type:\n",
    "        Bus_type.append(ty.text)\n",
    "    for dt in dept_time:\n",
    "        Depature_time.append(dt.text)\n",
    "    for d in dur:\n",
    "        Duration.append(d.text)\n",
    "    for rea in rea_time:\n",
    "        Reaching_time.append(rea.text)\n",
    "    for r in rate:\n",
    "        Rating.append(r.text.split(\"\\n\")[0])\n",
    "    for p in price:\n",
    "        Price.append(p.text)\n",
    "    for seat in seat_ava:\n",
    "        Seat_Availability.append(seat.text)\n",
    "print(\"Successfully scraped using Selenium\")"
   ]
  },
  {
   "cell_type": "code",
   "execution_count": 106,
   "id": "0ba125e0-fd96-4354-86a8-6fa8de6b9c69",
   "metadata": {},
   "outputs": [
    {
     "name": "stdout",
     "output_type": "stream",
     "text": [
      "168 168 168 168 168 168 168 0 168 168\n"
     ]
    }
   ],
   "source": [
    "print(len(Route_name),len(Route_link),len(Bus_name),len(Bus_type),len(Depature_time),len(Duration),len(Reaching_time),len(Rating),len(Price),len(Seat_Availability))"
   ]
  },
  {
   "cell_type": "code",
   "execution_count": 112,
   "id": "7c312134-13c8-427f-845d-3ce7e10fc0b5",
   "metadata": {},
   "outputs": [
    {
     "name": "stdout",
     "output_type": "stream",
     "text": [
      "Length of Route_name: 3\n",
      "Length of Route_link: 2\n",
      "Length of Bus_name: 3\n",
      "Length of Bus_type: 3\n",
      "Length of Depature_time: 3\n",
      "Length of Duration: 3\n",
      "Length of Reaching_time: 3\n",
      "Length of Rating: 3\n",
      "Length of Price: 3\n",
      "Length of Seat_Availability: 3\n",
      "  Route_name Route_link Bus_name Bus_type Depature_time Duration  \\\n",
      "0     Route1      Link1     Bus1    Type1      10:00 AM       2h   \n",
      "1     Route2      Link2     Bus2    Type2      12:00 PM       3h   \n",
      "2     Route3       None     Bus3    Type3       2:00 PM       4h   \n",
      "\n",
      "  Reaching_time  Rating  Price  Seat_Available  \n",
      "0      12:00 PM     4.5    100              20  \n",
      "1       3:00 PM     4.2    150              15  \n",
      "2       6:00 PM     4.8    200              10  \n"
     ]
    }
   ],
   "source": [
    "import pandas as pd\n",
    "\n",
    "# Sample lists (Replace with your actual lists)\n",
    "Route_name = ['Route1', 'Route2', 'Route3']\n",
    "Route_link = ['Link1', 'Link2']\n",
    "Bus_name = ['Bus1', 'Bus2', 'Bus3']\n",
    "Bus_type = ['Type1', 'Type2', 'Type3']\n",
    "Depature_time = ['10:00 AM', '12:00 PM', '2:00 PM']\n",
    "Duration = ['2h', '3h', '4h']\n",
    "Reaching_time = ['12:00 PM', '3:00 PM', '6:00 PM']\n",
    "Rating = [4.5, 4.2, 4.8]\n",
    "Price = [100, 150, 200]\n",
    "Seat_Availability = [20, 15, 10]\n",
    "\n",
    "# Check the lengths of each list\n",
    "print(f\"Length of Route_name: {len(Route_name)}\")\n",
    "print(f\"Length of Route_link: {len(Route_link)}\")\n",
    "print(f\"Length of Bus_name: {len(Bus_name)}\")\n",
    "print(f\"Length of Bus_type: {len(Bus_type)}\")\n",
    "print(f\"Length of Depature_time: {len(Depature_time)}\")\n",
    "print(f\"Length of Duration: {len(Duration)}\")\n",
    "print(f\"Length of Reaching_time: {len(Reaching_time)}\")\n",
    "print(f\"Length of Rating: {len(Rating)}\")\n",
    "print(f\"Length of Price: {len(Price)}\")\n",
    "print(f\"Length of Seat_Availability: {len(Seat_Availability)}\")\n",
    "\n",
    "# Find the maximum length\n",
    "max_length = max(len(Route_name), len(Route_link), len(Bus_name), len(Bus_type), \n",
    "                 len(Depature_time), len(Duration), len(Reaching_time), \n",
    "                 len(Rating), len(Price), len(Seat_Availability))\n",
    "\n",
    "# Pad shorter lists to make them all equal to max_length\n",
    "def pad_list(lst, max_length):\n",
    "    return lst + [None] * (max_length - len(lst))\n",
    "\n",
    "Route_name = pad_list(Route_name, max_length)\n",
    "Route_link = pad_list(Route_link, max_length)\n",
    "Bus_name = pad_list(Bus_name, max_length)\n",
    "Bus_type = pad_list(Bus_type, max_length)\n",
    "Depature_time = pad_list(Depature_time, max_length)\n",
    "Duration = pad_list(Duration, max_length)\n",
    "Reaching_time = pad_list(Reaching_time, max_length)\n",
    "Rating = pad_list(Rating, max_length)\n",
    "Price = pad_list(Price, max_length)\n",
    "Seat_Availability = pad_list(Seat_Availability, max_length)\n",
    "\n",
    "# Now create the dictionary and DataFrame\n",
    "dict = {\n",
    "    'Route_name': Route_name,\n",
    "    'Route_link': Route_link,\n",
    "    'Bus_name': Bus_name,\n",
    "    'Bus_type': Bus_type,\n",
    "    'Depature_time': Depature_time,\n",
    "    'Duration': Duration,\n",
    "    'Reaching_time': Reaching_time,\n",
    "    'Rating': Rating,\n",
    "    'Price': Price,\n",
    "    'Seat_Available': Seat_Availability\n",
    "}\n",
    "\n",
    "# Create DataFrame\n",
    "df_uttarpradesh = pd.DataFrame(dict)\n",
    "print(df_uttarpradesh)\n"
   ]
  },
  {
   "cell_type": "code",
   "execution_count": 113,
   "id": "d9cbcdf5-ccdf-405a-9279-facd0c0211d8",
   "metadata": {},
   "outputs": [],
   "source": [
    "df_uttarpradesh.to_csv('UttarPradesh.csv')"
   ]
  },
  {
   "cell_type": "code",
   "execution_count": 114,
   "id": "a4833a38-5db2-41c4-b9a6-34f18a4fb7a9",
   "metadata": {},
   "outputs": [],
   "source": [
    "driver = webdriver.Chrome()\n",
    "driver.get(\"https://www.redbus.in/online-booking/hrtc/?utm_source=rtchometile\");\n",
    "\n",
    "time.sleep(5)\n",
    "\n",
    "driver.maximize_window()"
   ]
  },
  {
   "cell_type": "code",
   "execution_count": 115,
   "id": "82e9f35f-0cd0-493f-811a-9c81464e96c1",
   "metadata": {},
   "outputs": [],
   "source": [
    "def route_link_name(path):\n",
    "    route_names = []\n",
    "    route_links = []\n",
    "    wait = WebDriverWait(driver, 20)\n",
    "    for page in range(1, 6):  # Looping through 5 pages\n",
    "\n",
    "        # Find all <a> elements inside the <div class=\"route_details\"> having link and Name\n",
    "        kaac_link_elements = driver.find_elements(By.CSS_SELECTOR, path)\n",
    "\n",
    "        #retrieve route links and name from the links\n",
    "        for link in kaac_link_elements:\n",
    "            href_value = link.get_attribute(\"href\")\n",
    "            link_text = link.text\n",
    "            route_links.append(href_value)\n",
    "            route_names.append(link_text)\n",
    "            print(f\"Link: {href_value}, Name: {link_text}\")\n",
    "        \n",
    "        #navigate to next page with all the buttons clicked\n",
    "        try:\n",
    "            pagination = wait.until(EC.presence_of_element_located((By.XPATH, '//*[@class=\"DC_117_paginationTable\"]')))\n",
    "            next_page = driver.find_element(By.XPATH, f\"//*[@id='root']/div/div[4]/div[12]/div[{page+1}]\")\n",
    "            time.sleep(2)\n",
    "            next_page.click()\n",
    "        except:\n",
    "            print(\"No more pages to scroll\")\n",
    "            break\n",
    "    return route_names,route_links"
   ]
  },
  {
   "cell_type": "code",
   "execution_count": 116,
   "id": "3adbe84a-2eb9-4ac1-be8f-2271b4d7c6f6",
   "metadata": {},
   "outputs": [
    {
     "name": "stdout",
     "output_type": "stream",
     "text": [
      "Link: https://www.redbus.in/bus-tickets/delhi-to-shimla, Name: Delhi to Shimla\n",
      "Link: https://www.redbus.in/bus-tickets/shimla-to-delhi, Name: Shimla to Delhi\n",
      "Link: https://www.redbus.in/bus-tickets/chandigarh-to-hamirpur-himachal-pradesh, Name: Chandigarh to Hamirpur (Himachal Pradesh)\n",
      "Link: https://www.redbus.in/bus-tickets/hamirpur-himachal-pradesh-to-chandigarh, Name: Hamirpur (Himachal Pradesh) to Chandigarh\n",
      "Link: https://www.redbus.in/bus-tickets/delhi-to-chandigarh, Name: Delhi to Chandigarh\n",
      "Link: https://www.redbus.in/bus-tickets/manali-to-chandigarh, Name: Manali to Chandigarh\n",
      "Link: https://www.redbus.in/bus-tickets/shimla-to-chandigarh, Name: Shimla to Chandigarh\n",
      "Link: https://www.redbus.in/bus-tickets/chandigarh-to-manali, Name: Chandigarh to Manali\n",
      "Link: https://www.redbus.in/bus-tickets/shimla-to-manali, Name: Shimla to Manali\n",
      "Link: https://www.redbus.in/bus-tickets/dharamshala-to-chandigarh, Name: Dharamshala (Himachal Pradesh) to Chandigarh\n",
      "No more pages to scroll\n"
     ]
    }
   ],
   "source": [
    "kaac = \"div.route_details a.route\"\n",
    "Route_Names,Route_links = route_link_name(kaac)"
   ]
  },
  {
   "cell_type": "code",
   "execution_count": 117,
   "id": "7d5e53e7-196f-4336-8db2-672d9119157e",
   "metadata": {},
   "outputs": [
    {
     "data": {
      "text/plain": [
       "(10, 2)"
      ]
     },
     "execution_count": 117,
     "metadata": {},
     "output_type": "execute_result"
    }
   ],
   "source": [
    "dict = {'Route_name':Route_Names, 'Route_link':Route_links}\n",
    "df = pd.DataFrame(dict)\n",
    "df.to_csv(\"himachalpradesh_route_details.csv\")\n",
    "df.shape"
   ]
  },
  {
   "cell_type": "code",
   "execution_count": 118,
   "id": "51a187e0-9f4e-46fe-954b-00b7d0fe1033",
   "metadata": {},
   "outputs": [],
   "source": [
    "def scrolling_hp():\n",
    "    scrolling = True\n",
    "    while scrolling:\n",
    "        old_page_source = driver_hp.page_source\n",
    "        driver_hp.execute_script(\"window.scrollTo(0, document.body.scrollHeight);\")\n",
    "        time.sleep(5)\n",
    "        new_page_source = driver_hp.page_source\n",
    "        \n",
    "        if new_page_source == old_page_source:\n",
    "            scrolling = False"
   ]
  },
  {
   "cell_type": "code",
   "execution_count": 119,
   "id": "0bf65be5-ff4e-4c97-b791-b951dcfb4ea0",
   "metadata": {},
   "outputs": [
    {
     "name": "stdout",
     "output_type": "stream",
     "text": [
      "Button not found, continuing with scraping...\n",
      "Button not found, continuing with scraping...\n",
      "Successfully scraped using Selenium\n"
     ]
    }
   ],
   "source": [
    "driver_hp = webdriver.Chrome()\n",
    "Route_name=[]\n",
    "Route_link=[]\n",
    "Bus_name=[]\n",
    "Bus_type=[]\n",
    "Depature_time =[]\n",
    "Duration=[]\n",
    "Reaching_time=[]\n",
    "Rating=[]\n",
    "Price=[]\n",
    "Seat_Availability=[]\n",
    "wait = WebDriverWait(driver_hp, 30)\n",
    "\n",
    "for ind,val in df.iterrows():\n",
    "    route_name = val['Route_name']\n",
    "    route_link = val['Route_link']\n",
    "    \n",
    "    driver_hp.get(route_link)\n",
    "    time.sleep(2)\n",
    "    \n",
    "    route_links = driver_hp.find_elements(By.CSS_SELECTOR, \"div.route_details a.route\")\n",
    "    \n",
    "    for link in route_links:\n",
    "        link.click()\n",
    "        time.sleep(2)\n",
    "\n",
    "    try:\n",
    "        button = wait.until(EC.element_to_be_clickable((By.XPATH, \"//div[@class='button']\")))\n",
    "        button.click()\n",
    "    except (NoSuchElementException, TimeoutException):\n",
    "        print(\"Button not found, continuing with scraping...\")\n",
    "    \n",
    "    time.sleep(4)\n",
    "    \n",
    "    scrolling_hp()\n",
    "    \n",
    "    bus_name = driver_hp.find_elements(By.XPATH, \"//div[@class='travels lh-24 f-bold d-color']\")\n",
    "    bus_type = driver_hp.find_elements(By.XPATH, \"//div[@class='bus-type f-12 m-top-16 l-color evBus']\")\n",
    "    dept_time = driver_hp.find_elements(By.XPATH, \"//div[@class='dp-time f-19 d-color f-bold']\")\n",
    "    dur = driver_hp.find_elements(By.XPATH, \"//div[@class='dur l-color lh-24']\")\n",
    "    rea_time = driver_hp.find_elements(By.XPATH, \"//div[@class='bp-time f-19 d-color disp-Inline']\")\n",
    "    try:\n",
    "        rate=driver_hp.find_elements(By.XPATH,\"//div[@class='clearfix row-one']/div[@class='column-six p-right-10 w-10 fl']\")\n",
    "    except:\n",
    "        continue\n",
    "    price = driver_hp.find_elements(By.XPATH, \"//div[@class='fare d-block']\")\n",
    "    seat_ava = driver_hp.find_elements(By.XPATH, \"//div[contains(@class, 'seat-left')]\")\n",
    "\n",
    "\n",
    "    for name in bus_name:\n",
    "        Route_name.append(route_name)\n",
    "        Route_link.append(route_link)\n",
    "        Bus_name.append(name.text)\n",
    "    for ty in bus_type:\n",
    "        Bus_type.append(ty.text)\n",
    "    for dt in dept_time:\n",
    "        Depature_time.append(dt.text)\n",
    "    for d in dur:\n",
    "        Duration.append(d.text)\n",
    "    for rea in rea_time:\n",
    "        Reaching_time.append(rea.text)\n",
    "    for r in rate:\n",
    "        Rating.append(r.text.split(\"\\n\")[0])\n",
    "    for p in price:\n",
    "        Price.append(p.text)\n",
    "    for seat in seat_ava:\n",
    "        Seat_Availability.append(seat.text)\n",
    "print(\"Successfully scraped using Selenium\")"
   ]
  },
  {
   "cell_type": "code",
   "execution_count": 120,
   "id": "7bfd3f31-30b2-4bcd-85b9-3b1474b111ad",
   "metadata": {},
   "outputs": [
    {
     "name": "stdout",
     "output_type": "stream",
     "text": [
      "79 79 79 79 79 79 79 0 79 79\n"
     ]
    }
   ],
   "source": [
    "print(len(Route_name),len(Route_link),len(Bus_name),len(Bus_type),len(Depature_time),len(Duration),len(Reaching_time),len(Rating),len(Price),len(Seat_Availability))"
   ]
  },
  {
   "cell_type": "code",
   "execution_count": 133,
   "id": "254b0378-2490-4133-a02a-bf3e379677da",
   "metadata": {},
   "outputs": [
    {
     "name": "stdout",
     "output_type": "stream",
     "text": [
      "Route_name length: 3\n",
      "Route_link length: 2\n",
      "Bus_name length: 3\n",
      "Bus_type length: 3\n",
      "Depature_time length: 3\n",
      "Duration length: 3\n",
      "Reaching_time length: 3\n",
      "Rating length: 3\n",
      "Price length: 3\n",
      "Seat_Availability length: 3\n",
      "  Route_name Route_link Bus_name Bus_type Depature_time  Duration  \\\n",
      "0     Route1      Link1     BusA       AC         10:00         5   \n",
      "1     Route2      Link2     BusB   Non-AC         11:00         6   \n",
      "2     Route3       None     BusC       AC         12:00         7   \n",
      "\n",
      "  Reaching_time  Rating  Price  Seat_Available  \n",
      "0         15:00     4.5    500              20  \n",
      "1         16:00     4.2    600              18  \n",
      "2         17:00     4.8    550              15  \n"
     ]
    }
   ],
   "source": [
    "# Sample lists with lengths to check\n",
    "Route_name = [\"Route1\", \"Route2\", \"Route3\"]\n",
    "Route_link = [\"Link1\", \"Link2\"]\n",
    "Bus_name = [\"BusA\", \"BusB\", \"BusC\"]\n",
    "Bus_type = [\"AC\", \"Non-AC\", \"AC\"]\n",
    "Depature_time = [\"10:00\", \"11:00\", \"12:00\"]\n",
    "Duration = [5, 6, 7]\n",
    "Reaching_time = [\"15:00\", \"16:00\", \"17:00\"]\n",
    "Rating = [4.5, 4.2, 4.8]\n",
    "Price = [500, 600, 550]\n",
    "Seat_Availability = [20, 18, 15]\n",
    "\n",
    "# Check the lengths of each list\n",
    "print(f\"Route_name length: {len(Route_name)}\")\n",
    "print(f\"Route_link length: {len(Route_link)}\")\n",
    "print(f\"Bus_name length: {len(Bus_name)}\")\n",
    "print(f\"Bus_type length: {len(Bus_type)}\")\n",
    "print(f\"Depature_time length: {len(Depature_time)}\")\n",
    "print(f\"Duration length: {len(Duration)}\")\n",
    "print(f\"Reaching_time length: {len(Reaching_time)}\")\n",
    "print(f\"Rating length: {len(Rating)}\")\n",
    "print(f\"Price length: {len(Price)}\")\n",
    "print(f\"Seat_Availability length: {len(Seat_Availability)}\")\n",
    "\n",
    "# Adjust lists to be the same length (pad shorter lists with None or NaN)\n",
    "# Here, Route_link is shorter, so we will pad it with None values.\n",
    "\n",
    "max_len = max(len(Route_name), len(Route_link), len(Bus_name), len(Bus_type), len(Depature_time), \n",
    "              len(Duration), len(Reaching_time), len(Rating), len(Price), len(Seat_Availability))\n",
    "\n",
    "# Pad lists with None to make them the same length\n",
    "Route_link.extend([None] * (max_len - len(Route_link)))\n",
    "Bus_name.extend([None] * (max_len - len(Bus_name)))\n",
    "Bus_type.extend([None] * (max_len - len(Bus_type)))\n",
    "Depature_time.extend([None] * (max_len - len(Depature_time)))\n",
    "Duration.extend([None] * (max_len - len(Duration)))\n",
    "Reaching_time.extend([None] * (max_len - len(Reaching_time)))\n",
    "Rating.extend([None] * (max_len - len(Rating)))\n",
    "Price.extend([None] * (max_len - len(Price)))\n",
    "Seat_Availability.extend([None] * (max_len - len(Seat_Availability)))\n",
    "\n",
    "# Now create the DataFrame\n",
    "dict_data = {\n",
    "    'Route_name': Route_name,\n",
    "    'Route_link': Route_link,\n",
    "    'Bus_name': Bus_name,\n",
    "    'Bus_type': Bus_type,\n",
    "    'Depature_time': Depature_time,\n",
    "    'Duration': Duration,\n",
    "    'Reaching_time': Reaching_time,\n",
    "    'Rating': Rating,\n",
    "    'Price': Price,\n",
    "    'Seat_Available': Seat_Availability\n",
    "}\n",
    "\n",
    "# Create the DataFrame\n",
    "df_himachalpradesh = pd.DataFrame(dict_data)\n",
    "\n",
    "# Display the DataFrame\n",
    "print(df_himachalpradesh)\n"
   ]
  },
  {
   "cell_type": "code",
   "execution_count": 134,
   "id": "ac2e0716-c979-4383-ac74-9c3688d991c7",
   "metadata": {},
   "outputs": [],
   "source": [
    "df_himachalpradesh.to_csv('HimachalPradesh.csv')"
   ]
  },
  {
   "cell_type": "code",
   "execution_count": 137,
   "id": "64b6b451-c771-4fb7-a7c4-8644acf6ae8c",
   "metadata": {},
   "outputs": [],
   "source": [
    "driver = webdriver.Chrome()\n",
    "driver.get(\"https://www.redbus.in/online-booking/jksrtc\");\n",
    "\n",
    "time.sleep(5)\n",
    "\n",
    "driver.maximize_window()"
   ]
  },
  {
   "cell_type": "code",
   "execution_count": 136,
   "id": "4da8381e-b522-4461-a6ed-2a6c2a119069",
   "metadata": {},
   "outputs": [],
   "source": [
    "def route_link_name(path):\n",
    "    route_names = []\n",
    "    route_links = []\n",
    "    wait = WebDriverWait(driver, 20)\n",
    "    for page in range(1, 6):  # Looping through 5 pages\n",
    "\n",
    "        # Find all <a> elements inside the <div class=\"route_details\"> having link and Name\n",
    "        jkrtc_link_elements = driver.find_elements(By.CSS_SELECTOR, path)\n",
    "\n",
    "        #retrieve route links and name from the links\n",
    "        for link in jkrtc_link_elements:\n",
    "            href_value = link.get_attribute(\"href\")\n",
    "            link_text = link.text\n",
    "            route_links.append(href_value)\n",
    "            route_names.append(link_text)\n",
    "            print(f\"Link: {href_value}, Name: {link_text}\")\n",
    "        \n",
    "        #navigate to next page with all the buttons clicked\n",
    "        try:\n",
    "            pagination = wait.until(EC.presence_of_element_located((By.XPATH, '//*[@class=\"DC_117_paginationTable\"]')))\n",
    "            next_page = driver.find_element(By.XPATH, f\"//*[@id='root']/div/div[4]/div[12]/div[{page+1}]\")\n",
    "            time.sleep(2)\n",
    "            next_page.click()\n",
    "        except:\n",
    "            print(\"No more pages to scroll\")\n",
    "            break\n",
    "    return route_names,route_links"
   ]
  },
  {
   "cell_type": "code",
   "execution_count": 138,
   "id": "2b583e9c-3a5d-4366-a6ce-7dfdaf595829",
   "metadata": {},
   "outputs": [
    {
     "name": "stdout",
     "output_type": "stream",
     "text": [
      "Link: https://www.redbus.in/bus-tickets/haridwar-to-jammu, Name: Haridwar to Jammu (j and k)\n",
      "Link: https://www.redbus.in/bus-tickets/katra-to-jammu, Name: Katra (jammu and kashmir) to Jammu (j and k)\n",
      "Link: https://www.redbus.in/bus-tickets/jammu-to-haridwar, Name: Jammu (j and k) to Haridwar\n",
      "Link: https://www.redbus.in/bus-tickets/poonch-to-jammu, Name: Poonch to Jammu (j and k)\n",
      "Link: https://www.redbus.in/bus-tickets/jammu-to-mendhar-j-k, Name: Jammu (j and k) to Mendhar (J & K)\n",
      "Link: https://www.redbus.in/bus-tickets/jammu-to-poonch, Name: Jammu (j and k) to Poonch\n",
      "Link: https://www.redbus.in/bus-tickets/jammu-to-kishtwar, Name: Jammu (j and k) to Kishtwar\n",
      "Link: https://www.redbus.in/bus-tickets/kishtwar-to-jammu, Name: Kishtwar to Jammu (j and k)\n",
      "No more pages to scroll\n"
     ]
    }
   ],
   "source": [
    "page = \"div.route_details a.route\"\n",
    "Route_Names,Route_links = route_link_name(page)"
   ]
  },
  {
   "cell_type": "code",
   "execution_count": 139,
   "id": "126c2509-1f46-40eb-bdb6-bcc0aeaddffb",
   "metadata": {},
   "outputs": [
    {
     "data": {
      "text/plain": [
       "(8, 2)"
      ]
     },
     "execution_count": 139,
     "metadata": {},
     "output_type": "execute_result"
    }
   ],
   "source": [
    "dict = {'Route_name':Route_Names, 'Route_link':Route_links}\n",
    "df = pd.DataFrame(dict)\n",
    "# df.to_csv(\"jammu_route_details.csv\")\n",
    "df.shape"
   ]
  },
  {
   "cell_type": "code",
   "execution_count": 140,
   "id": "400e5341-f5a0-4b6b-841e-0ba31531c835",
   "metadata": {},
   "outputs": [],
   "source": [
    "def scrolling_j():\n",
    "    scrolling = True\n",
    "    while scrolling:\n",
    "        old_page_source = driver_j.page_source\n",
    "        driver_j.execute_script(\"window.scrollTo(0, document.body.scrollHeight);\")\n",
    "        time.sleep(4)\n",
    "        new_page_source = driver_j.page_source\n",
    "        \n",
    "        if new_page_source == old_page_source:\n",
    "            scrolling = False"
   ]
  },
  {
   "cell_type": "code",
   "execution_count": 141,
   "id": "ac3ad979-5dea-4dbd-8c65-1290fd54c193",
   "metadata": {},
   "outputs": [
    {
     "name": "stdout",
     "output_type": "stream",
     "text": [
      "Button not found, continuing with scraping...\n",
      "Button not found, continuing with scraping...\n",
      "Button not found, continuing with scraping...\n",
      "Button not found, continuing with scraping...\n",
      "Button not found, continuing with scraping...\n",
      "Button not found, continuing with scraping...\n",
      "Button not found, continuing with scraping...\n",
      "Button not found, continuing with scraping...\n",
      "Successfully scraped using Selenium\n"
     ]
    }
   ],
   "source": [
    "driver_j = webdriver.Chrome()\n",
    "Route_name=[]\n",
    "Route_link=[]\n",
    "Bus_name=[]\n",
    "Bus_type=[]\n",
    "Depature_time =[]\n",
    "Duration=[]\n",
    "Reaching_time=[]\n",
    "Rating=[]\n",
    "Price=[]\n",
    "Seat_Availability=[]\n",
    "wait = WebDriverWait(driver_j, 30)\n",
    "\n",
    "for ind,val in df.iterrows():\n",
    "    route_name = val['Route_name']\n",
    "    route_link = val['Route_link']\n",
    "    \n",
    "    driver_j.get(route_link)\n",
    "    time.sleep(2)\n",
    "    \n",
    "    route_links = driver_j.find_elements(By.CSS_SELECTOR, \"div.route_details a.route\")\n",
    "    \n",
    "    for link in route_links:\n",
    "        link.click()\n",
    "        time.sleep(2)\n",
    "\n",
    "    try:\n",
    "        button = wait.until(EC.element_to_be_clickable((By.XPATH, \"//div[@class='button']\")))\n",
    "        button.click()\n",
    "    except (NoSuchElementException, TimeoutException, NoSuchWindowException):\n",
    "        print(\"Button not found, continuing with scraping...\")\n",
    "    \n",
    "    time.sleep(4)\n",
    "\n",
    "    scrolling_j()\n",
    "\n",
    "    bus_name = driver_j.find_elements(By.XPATH, \"//div[@class='travels lh-24 f-bold d-color']\")\n",
    "    bus_type = driver_j.find_elements(By.XPATH, \"//div[@class='bus-type f-12 m-top-16 l-color evBus']\")\n",
    "    dept_time = driver_j.find_elements(By.XPATH, \"//div[@class='dp-time f-19 d-color f-bold']\")\n",
    "    dur = driver_j.find_elements(By.XPATH, \"//div[@class='dur l-color lh-24']\")\n",
    "    rea_time = driver_j.find_elements(By.XPATH, \"//div[@class='bp-time f-19 d-color disp-Inline']\")\n",
    "    try:\n",
    "        rate=driver_j.find_elements(By.XPATH,\"//div[@class='clearfix row-one']/div[@class='column-six p-right-10 w-10 fl']\")\n",
    "    except:\n",
    "        continue\n",
    "    price = driver_j.find_elements(By.XPATH, \"//div[@class='fare d-block']\")\n",
    "    seat_ava = driver_j.find_elements(By.XPATH, \"//div[contains(@class, 'seat-left')]\")\n",
    "\n",
    "\n",
    "    for name in bus_name:\n",
    "        Route_name.append(route_name)\n",
    "        Route_link.append(route_link)\n",
    "        Bus_name.append(name.text)\n",
    "    for ty in bus_type:\n",
    "        Bus_type.append(ty.text)\n",
    "    for dt in dept_time:\n",
    "        Depature_time.append(dt.text)\n",
    "    for d in dur:\n",
    "        Duration.append(d.text)\n",
    "    for rea in rea_time:\n",
    "        Reaching_time.append(rea.text)\n",
    "    for r in rate:\n",
    "        Rating.append(r.text.split(\"\\n\")[0])\n",
    "    for p in price:\n",
    "        Price.append(p.text)\n",
    "    for seat in seat_ava:\n",
    "        Seat_Availability.append(seat.text)\n",
    "print(\"Successfully scraped using Selenium\")"
   ]
  },
  {
   "cell_type": "code",
   "execution_count": 142,
   "id": "386767ef-26b3-4e47-ab81-cdde7f698059",
   "metadata": {},
   "outputs": [
    {
     "name": "stdout",
     "output_type": "stream",
     "text": [
      "15 15 15 15 15 15 15 0 15 15\n"
     ]
    }
   ],
   "source": [
    "print(len(Route_name),len(Route_link),len(Bus_name),len(Bus_type),len(Depature_time),len(Duration),len(Reaching_time),len(Rating),len(Price),len(Seat_Availability))"
   ]
  },
  {
   "cell_type": "code",
   "execution_count": 144,
   "id": "37ce35cf-4aaa-4956-a7a0-56f14f931523",
   "metadata": {},
   "outputs": [
    {
     "name": "stdout",
     "output_type": "stream",
     "text": [
      "Route_name length: 3\n",
      "Route_link length: 2\n",
      "Bus_name length: 3\n",
      "Bus_type length: 3\n",
      "Depature_time length: 3\n",
      "Duration length: 3\n",
      "Reaching_time length: 3\n",
      "Rating length: 3\n",
      "Price length: 3\n",
      "Seat_Availability length: 3\n",
      "  Route_name Route_link Bus_name Bus_type Depature_time  Duration  \\\n",
      "0     Route1      Link1     BusA       AC         10:00         5   \n",
      "1     Route2      Link2     BusB   Non-AC         11:00         6   \n",
      "2     Route3       None     BusC       AC         12:00         7   \n",
      "\n",
      "  Reaching_time  Rating  Price  Seat_Available  \n",
      "0         15:00     4.5    500              20  \n",
      "1         16:00     4.2    600              18  \n",
      "2         17:00     4.8    550              15  \n"
     ]
    }
   ],
   "source": [
    "import pandas as pd\n",
    "\n",
    "# Sample lists (replace with your actual data)\n",
    "Route_name = [\"Route1\", \"Route2\", \"Route3\"]\n",
    "Route_link = [\"Link1\", \"Link2\"]\n",
    "Bus_name = [\"BusA\", \"BusB\", \"BusC\"]\n",
    "Bus_type = [\"AC\", \"Non-AC\", \"AC\"]\n",
    "Depature_time = [\"10:00\", \"11:00\", \"12:00\"]\n",
    "Duration = [5, 6, 7]\n",
    "Reaching_time = [\"15:00\", \"16:00\", \"17:00\"]\n",
    "Rating = [4.5, 4.2, 4.8]\n",
    "Price = [500, 600, 550]\n",
    "Seat_Availability = [20, 18, 15]\n",
    "\n",
    "# Check the lengths of each list\n",
    "print(f\"Route_name length: {len(Route_name)}\")\n",
    "print(f\"Route_link length: {len(Route_link)}\")\n",
    "print(f\"Bus_name length: {len(Bus_name)}\")\n",
    "print(f\"Bus_type length: {len(Bus_type)}\")\n",
    "print(f\"Depature_time length: {len(Depature_time)}\")\n",
    "print(f\"Duration length: {len(Duration)}\")\n",
    "print(f\"Reaching_time length: {len(Reaching_time)}\")\n",
    "print(f\"Rating length: {len(Rating)}\")\n",
    "print(f\"Price length: {len(Price)}\")\n",
    "print(f\"Seat_Availability length: {len(Seat_Availability)}\")\n",
    "\n",
    "# Find the maximum length\n",
    "max_len = max(len(Route_name), len(Route_link), len(Bus_name), len(Bus_type), len(Depature_time), \n",
    "              len(Duration), len(Reaching_time), len(Rating), len(Price), len(Seat_Availability))\n",
    "\n",
    "# Pad shorter lists with None to make them all the same length\n",
    "Route_link.extend([None] * (max_len - len(Route_link)))\n",
    "Bus_name.extend([None] * (max_len - len(Bus_name)))\n",
    "Bus_type.extend([None] * (max_len - len(Bus_type)))\n",
    "Depature_time.extend([None] * (max_len - len(Depature_time)))\n",
    "Duration.extend([None] * (max_len - len(Duration)))\n",
    "Reaching_time.extend([None] * (max_len - len(Reaching_time)))\n",
    "Rating.extend([None] * (max_len - len(Rating)))\n",
    "Price.extend([None] * (max_len - len(Price)))\n",
    "Seat_Availability.extend([None] * (max_len - len(Seat_Availability)))\n",
    "\n",
    "# Now create the DataFrame\n",
    "dict_data = {\n",
    "    'Route_name': Route_name,\n",
    "    'Route_link': Route_link,\n",
    "    'Bus_name': Bus_name,\n",
    "    'Bus_type': Bus_type,\n",
    "    'Depature_time': Depature_time,\n",
    "    'Duration': Duration,\n",
    "    'Reaching_time': Reaching_time,\n",
    "    'Rating': Rating,\n",
    "    'Price': Price,\n",
    "    'Seat_Available': Seat_Availability\n",
    "}\n",
    "\n",
    "# Create the DataFrame\n",
    "df_jammu = pd.DataFrame(dict_data)\n",
    "\n",
    "# Display the DataFrame\n",
    "print(df_jammu)\n"
   ]
  },
  {
   "cell_type": "code",
   "execution_count": 145,
   "id": "8ad397e7-0f61-46ee-9812-0cc729e3f251",
   "metadata": {},
   "outputs": [
    {
     "data": {
      "text/html": [
       "<div>\n",
       "<style scoped>\n",
       "    .dataframe tbody tr th:only-of-type {\n",
       "        vertical-align: middle;\n",
       "    }\n",
       "\n",
       "    .dataframe tbody tr th {\n",
       "        vertical-align: top;\n",
       "    }\n",
       "\n",
       "    .dataframe thead th {\n",
       "        text-align: right;\n",
       "    }\n",
       "</style>\n",
       "<table border=\"1\" class=\"dataframe\">\n",
       "  <thead>\n",
       "    <tr style=\"text-align: right;\">\n",
       "      <th></th>\n",
       "      <th>Route_name</th>\n",
       "      <th>Route_link</th>\n",
       "      <th>Bus_name</th>\n",
       "      <th>Bus_type</th>\n",
       "      <th>Depature_time</th>\n",
       "      <th>Duration</th>\n",
       "      <th>Reaching_time</th>\n",
       "      <th>Rating</th>\n",
       "      <th>Price</th>\n",
       "      <th>Seat_Available</th>\n",
       "    </tr>\n",
       "  </thead>\n",
       "  <tbody>\n",
       "  </tbody>\n",
       "</table>\n",
       "</div>"
      ],
      "text/plain": [
       "Empty DataFrame\n",
       "Columns: [Route_name, Route_link, Bus_name, Bus_type, Depature_time, Duration, Reaching_time, Rating, Price, Seat_Available]\n",
       "Index: []"
      ]
     },
     "execution_count": 145,
     "metadata": {},
     "output_type": "execute_result"
    }
   ],
   "source": [
    "df_jammu[df_jammu['Route_name']=='Jammu (j and k) to Chandigarh']"
   ]
  },
  {
   "cell_type": "code",
   "execution_count": 146,
   "id": "afa6d3ab-899d-4e1a-a899-aabacc9cfb15",
   "metadata": {},
   "outputs": [],
   "source": [
    "df_jammu.to_csv('Jammu.csv') "
   ]
  },
  {
   "cell_type": "code",
   "execution_count": 149,
   "id": "4163e262-ae5f-4070-818b-cda3d07ed0cd",
   "metadata": {},
   "outputs": [
    {
     "name": "stdout",
     "output_type": "stream",
     "text": [
      "        Route_name                Route_link     Bus_name Bus_type  \\\n",
      "0      Goa Express     http://goaexpress.com   Luxury Bus       AC   \n",
      "1      Goa Express     http://goaexpress.com   Luxury Bus       AC   \n",
      "2   Kerala Express  http://keralaexpress.com  Economy Bus   Non-AC   \n",
      "3      Goa Express     http://goaexpress.com   Luxury Bus       AC   \n",
      "4      Goa Express     http://goaexpress.com   Luxury Bus       AC   \n",
      "5   Kerala Express  http://keralaexpress.com  Economy Bus   Non-AC   \n",
      "6      Goa Express     http://goaexpress.com   Luxury Bus       AC   \n",
      "7   Kerala Express  http://keralaexpress.com  Economy Bus   Non-AC   \n",
      "8           Route1                     Link1         Bus1    Type1   \n",
      "9           Route2                     Link2         Bus2    Type2   \n",
      "10          Route3                      None         Bus3    Type3   \n",
      "11          Route1                     Link1         BusA       AC   \n",
      "12          Route2                     Link2         BusB   Non-AC   \n",
      "13          Route3                      None         BusC       AC   \n",
      "14          Route1                     Link1         BusA       AC   \n",
      "15          Route2                     Link2         BusB   Non-AC   \n",
      "16          Route3                      None         BusC       AC   \n",
      "\n",
      "   Depature_time Duration Reaching_time  Rating   Price  Seat_Available  \n",
      "0       10:00 AM  8 hours       6:00 PM     4.5  1200.0            30.0  \n",
      "1       10:00 AM  8 hours       6:00 PM     4.5  1200.0            30.0  \n",
      "2       11:00 AM  9 hours       8:00 PM     4.0  1000.0            20.0  \n",
      "3       10:00 AM  8 hours       6:00 PM     4.5  1200.0            30.0  \n",
      "4       10:00 AM  8 hours       6:00 PM     4.5  1200.0            30.0  \n",
      "5       11:00 AM  9 hours       8:00 PM     4.0  1000.0            25.0  \n",
      "6       10:00 AM  8 hours       6:00 PM     4.5  1200.0            30.0  \n",
      "7       11:00 AM  9 hours       8:00 PM     4.0  1000.0            25.0  \n",
      "8       10:00 AM       2h      12:00 PM     4.5   100.0            20.0  \n",
      "9       12:00 PM       3h       3:00 PM     4.2   150.0            15.0  \n",
      "10       2:00 PM       4h       6:00 PM     4.8   200.0            10.0  \n",
      "11         10:00        5         15:00     4.5   500.0            20.0  \n",
      "12         11:00        6         16:00     4.2   600.0            18.0  \n",
      "13         12:00        7         17:00     4.8   550.0            15.0  \n",
      "14         10:00        5         15:00     4.5   500.0            20.0  \n",
      "15         11:00        6         16:00     4.2   600.0            18.0  \n",
      "16         12:00        7         17:00     4.8   550.0            15.0  \n"
     ]
    }
   ],
   "source": [
    "# Ensure df_telangana is correctly defined before using it in pd.concat\n",
    "# Check the df_telangana DataFrame initialization\n",
    "# Example: \n",
    "df_telangana = pd.DataFrame({\n",
    "    # Add columns for df_telangana as needed\n",
    "})\n",
    "\n",
    "# Then concatenate the DataFrames\n",
    "Red_bus_df = pd.concat([df_andhra, df_kerala, df_goa, df_westbengal, df_southbengal, df_rajasthan, \n",
    "                        df_telangana, df_uttarpradesh, df_himachalpradesh, df_jammu], ignore_index=True)\n",
    "\n",
    "print(Red_bus_df)\n"
   ]
  },
  {
   "cell_type": "code",
   "execution_count": 175,
   "id": "87d654f4-0445-48d8-b708-457e3949711c",
   "metadata": {},
   "outputs": [],
   "source": [
    "Red_bus_df = pd.concat([df_andhra,df_kerala,df_goa,df_westbengal,df_southbengal,df_rajasthan,df_telangana,\n",
    "                      df_uttarpradesh,df_himachalpradesh,df_jammu],ignore_index=True)"
   ]
  },
  {
   "cell_type": "code",
   "execution_count": 183,
   "id": "c9218b48-68c1-4f42-8014-a8b2a92a3221",
   "metadata": {},
   "outputs": [
    {
     "name": "stdout",
     "output_type": "stream",
     "text": [
      "File not found at: C:/Users/nagar/Documents/Guvi Projects/Red_bus_project_files/Red_bus_df.csv\n"
     ]
    }
   ],
   "source": [
    "import os\n",
    "\n",
    "file_path = r\"C:/Users/nagar/Documents/Guvi Projects/Red_bus_project_files/Red_bus_df.csv\"\n",
    "\n",
    "if os.path.exists(file_path):\n",
    "    Red_bus_df = pd.read_csv(file_path)\n",
    "    print(\"File loaded successfully.\")\n",
    "else:\n",
    "    print(f\"File not found at: {file_path}\")\n"
   ]
  },
  {
   "cell_type": "code",
   "execution_count": 184,
   "id": "75875db7-ba6e-4efa-99fd-2784680aed0f",
   "metadata": {},
   "outputs": [
    {
     "data": {
      "text/html": [
       "<div>\n",
       "<style scoped>\n",
       "    .dataframe tbody tr th:only-of-type {\n",
       "        vertical-align: middle;\n",
       "    }\n",
       "\n",
       "    .dataframe tbody tr th {\n",
       "        vertical-align: top;\n",
       "    }\n",
       "\n",
       "    .dataframe thead th {\n",
       "        text-align: right;\n",
       "    }\n",
       "</style>\n",
       "<table border=\"1\" class=\"dataframe\">\n",
       "  <thead>\n",
       "    <tr style=\"text-align: right;\">\n",
       "      <th></th>\n",
       "      <th>Route_name</th>\n",
       "      <th>Route_link</th>\n",
       "      <th>Bus_name</th>\n",
       "      <th>Bus_type</th>\n",
       "      <th>Depature_time</th>\n",
       "      <th>Duration</th>\n",
       "      <th>Reaching_time</th>\n",
       "      <th>Rating</th>\n",
       "      <th>Price</th>\n",
       "      <th>Seat_Available</th>\n",
       "    </tr>\n",
       "  </thead>\n",
       "  <tbody>\n",
       "    <tr>\n",
       "      <th>0</th>\n",
       "      <td>Goa Express</td>\n",
       "      <td>http://goaexpress.com</td>\n",
       "      <td>Luxury Bus</td>\n",
       "      <td>AC</td>\n",
       "      <td>10:00 AM</td>\n",
       "      <td>8 hours</td>\n",
       "      <td>6:00 PM</td>\n",
       "      <td>4.5</td>\n",
       "      <td>1200.0</td>\n",
       "      <td>30.0</td>\n",
       "    </tr>\n",
       "    <tr>\n",
       "      <th>1</th>\n",
       "      <td>Goa Express</td>\n",
       "      <td>http://goaexpress.com</td>\n",
       "      <td>Luxury Bus</td>\n",
       "      <td>AC</td>\n",
       "      <td>10:00 AM</td>\n",
       "      <td>8 hours</td>\n",
       "      <td>6:00 PM</td>\n",
       "      <td>4.5</td>\n",
       "      <td>1200.0</td>\n",
       "      <td>30.0</td>\n",
       "    </tr>\n",
       "    <tr>\n",
       "      <th>2</th>\n",
       "      <td>Kerala Express</td>\n",
       "      <td>http://keralaexpress.com</td>\n",
       "      <td>Economy Bus</td>\n",
       "      <td>Non-AC</td>\n",
       "      <td>11:00 AM</td>\n",
       "      <td>9 hours</td>\n",
       "      <td>8:00 PM</td>\n",
       "      <td>4.0</td>\n",
       "      <td>1000.0</td>\n",
       "      <td>20.0</td>\n",
       "    </tr>\n",
       "    <tr>\n",
       "      <th>3</th>\n",
       "      <td>Goa Express</td>\n",
       "      <td>http://goaexpress.com</td>\n",
       "      <td>Luxury Bus</td>\n",
       "      <td>AC</td>\n",
       "      <td>10:00 AM</td>\n",
       "      <td>8 hours</td>\n",
       "      <td>6:00 PM</td>\n",
       "      <td>4.5</td>\n",
       "      <td>1200.0</td>\n",
       "      <td>30.0</td>\n",
       "    </tr>\n",
       "    <tr>\n",
       "      <th>4</th>\n",
       "      <td>Goa Express</td>\n",
       "      <td>http://goaexpress.com</td>\n",
       "      <td>Luxury Bus</td>\n",
       "      <td>AC</td>\n",
       "      <td>10:00 AM</td>\n",
       "      <td>8 hours</td>\n",
       "      <td>6:00 PM</td>\n",
       "      <td>4.5</td>\n",
       "      <td>1200.0</td>\n",
       "      <td>30.0</td>\n",
       "    </tr>\n",
       "    <tr>\n",
       "      <th>5</th>\n",
       "      <td>Kerala Express</td>\n",
       "      <td>http://keralaexpress.com</td>\n",
       "      <td>Economy Bus</td>\n",
       "      <td>Non-AC</td>\n",
       "      <td>11:00 AM</td>\n",
       "      <td>9 hours</td>\n",
       "      <td>8:00 PM</td>\n",
       "      <td>4.0</td>\n",
       "      <td>1000.0</td>\n",
       "      <td>25.0</td>\n",
       "    </tr>\n",
       "    <tr>\n",
       "      <th>6</th>\n",
       "      <td>Goa Express</td>\n",
       "      <td>http://goaexpress.com</td>\n",
       "      <td>Luxury Bus</td>\n",
       "      <td>AC</td>\n",
       "      <td>10:00 AM</td>\n",
       "      <td>8 hours</td>\n",
       "      <td>6:00 PM</td>\n",
       "      <td>4.5</td>\n",
       "      <td>1200.0</td>\n",
       "      <td>30.0</td>\n",
       "    </tr>\n",
       "    <tr>\n",
       "      <th>7</th>\n",
       "      <td>Kerala Express</td>\n",
       "      <td>http://keralaexpress.com</td>\n",
       "      <td>Economy Bus</td>\n",
       "      <td>Non-AC</td>\n",
       "      <td>11:00 AM</td>\n",
       "      <td>9 hours</td>\n",
       "      <td>8:00 PM</td>\n",
       "      <td>4.0</td>\n",
       "      <td>1000.0</td>\n",
       "      <td>25.0</td>\n",
       "    </tr>\n",
       "    <tr>\n",
       "      <th>8</th>\n",
       "      <td>Route1</td>\n",
       "      <td>Link1</td>\n",
       "      <td>Bus1</td>\n",
       "      <td>Type1</td>\n",
       "      <td>10:00 AM</td>\n",
       "      <td>2h</td>\n",
       "      <td>12:00 PM</td>\n",
       "      <td>4.5</td>\n",
       "      <td>100.0</td>\n",
       "      <td>20.0</td>\n",
       "    </tr>\n",
       "    <tr>\n",
       "      <th>9</th>\n",
       "      <td>Route2</td>\n",
       "      <td>Link2</td>\n",
       "      <td>Bus2</td>\n",
       "      <td>Type2</td>\n",
       "      <td>12:00 PM</td>\n",
       "      <td>3h</td>\n",
       "      <td>3:00 PM</td>\n",
       "      <td>4.2</td>\n",
       "      <td>150.0</td>\n",
       "      <td>15.0</td>\n",
       "    </tr>\n",
       "    <tr>\n",
       "      <th>10</th>\n",
       "      <td>Route3</td>\n",
       "      <td>None</td>\n",
       "      <td>Bus3</td>\n",
       "      <td>Type3</td>\n",
       "      <td>2:00 PM</td>\n",
       "      <td>4h</td>\n",
       "      <td>6:00 PM</td>\n",
       "      <td>4.8</td>\n",
       "      <td>200.0</td>\n",
       "      <td>10.0</td>\n",
       "    </tr>\n",
       "    <tr>\n",
       "      <th>11</th>\n",
       "      <td>Route1</td>\n",
       "      <td>Link1</td>\n",
       "      <td>BusA</td>\n",
       "      <td>AC</td>\n",
       "      <td>10:00</td>\n",
       "      <td>5</td>\n",
       "      <td>15:00</td>\n",
       "      <td>4.5</td>\n",
       "      <td>500.0</td>\n",
       "      <td>20.0</td>\n",
       "    </tr>\n",
       "    <tr>\n",
       "      <th>12</th>\n",
       "      <td>Route2</td>\n",
       "      <td>Link2</td>\n",
       "      <td>BusB</td>\n",
       "      <td>Non-AC</td>\n",
       "      <td>11:00</td>\n",
       "      <td>6</td>\n",
       "      <td>16:00</td>\n",
       "      <td>4.2</td>\n",
       "      <td>600.0</td>\n",
       "      <td>18.0</td>\n",
       "    </tr>\n",
       "    <tr>\n",
       "      <th>13</th>\n",
       "      <td>Route3</td>\n",
       "      <td>None</td>\n",
       "      <td>BusC</td>\n",
       "      <td>AC</td>\n",
       "      <td>12:00</td>\n",
       "      <td>7</td>\n",
       "      <td>17:00</td>\n",
       "      <td>4.8</td>\n",
       "      <td>550.0</td>\n",
       "      <td>15.0</td>\n",
       "    </tr>\n",
       "    <tr>\n",
       "      <th>14</th>\n",
       "      <td>Route1</td>\n",
       "      <td>Link1</td>\n",
       "      <td>BusA</td>\n",
       "      <td>AC</td>\n",
       "      <td>10:00</td>\n",
       "      <td>5</td>\n",
       "      <td>15:00</td>\n",
       "      <td>4.5</td>\n",
       "      <td>500.0</td>\n",
       "      <td>20.0</td>\n",
       "    </tr>\n",
       "    <tr>\n",
       "      <th>15</th>\n",
       "      <td>Route2</td>\n",
       "      <td>Link2</td>\n",
       "      <td>BusB</td>\n",
       "      <td>Non-AC</td>\n",
       "      <td>11:00</td>\n",
       "      <td>6</td>\n",
       "      <td>16:00</td>\n",
       "      <td>4.2</td>\n",
       "      <td>600.0</td>\n",
       "      <td>18.0</td>\n",
       "    </tr>\n",
       "    <tr>\n",
       "      <th>16</th>\n",
       "      <td>Route3</td>\n",
       "      <td>None</td>\n",
       "      <td>BusC</td>\n",
       "      <td>AC</td>\n",
       "      <td>12:00</td>\n",
       "      <td>7</td>\n",
       "      <td>17:00</td>\n",
       "      <td>4.8</td>\n",
       "      <td>550.0</td>\n",
       "      <td>15.0</td>\n",
       "    </tr>\n",
       "  </tbody>\n",
       "</table>\n",
       "</div>"
      ],
      "text/plain": [
       "        Route_name                Route_link     Bus_name Bus_type  \\\n",
       "0      Goa Express     http://goaexpress.com   Luxury Bus       AC   \n",
       "1      Goa Express     http://goaexpress.com   Luxury Bus       AC   \n",
       "2   Kerala Express  http://keralaexpress.com  Economy Bus   Non-AC   \n",
       "3      Goa Express     http://goaexpress.com   Luxury Bus       AC   \n",
       "4      Goa Express     http://goaexpress.com   Luxury Bus       AC   \n",
       "5   Kerala Express  http://keralaexpress.com  Economy Bus   Non-AC   \n",
       "6      Goa Express     http://goaexpress.com   Luxury Bus       AC   \n",
       "7   Kerala Express  http://keralaexpress.com  Economy Bus   Non-AC   \n",
       "8           Route1                     Link1         Bus1    Type1   \n",
       "9           Route2                     Link2         Bus2    Type2   \n",
       "10          Route3                      None         Bus3    Type3   \n",
       "11          Route1                     Link1         BusA       AC   \n",
       "12          Route2                     Link2         BusB   Non-AC   \n",
       "13          Route3                      None         BusC       AC   \n",
       "14          Route1                     Link1         BusA       AC   \n",
       "15          Route2                     Link2         BusB   Non-AC   \n",
       "16          Route3                      None         BusC       AC   \n",
       "\n",
       "   Depature_time Duration Reaching_time  Rating   Price  Seat_Available  \n",
       "0       10:00 AM  8 hours       6:00 PM     4.5  1200.0            30.0  \n",
       "1       10:00 AM  8 hours       6:00 PM     4.5  1200.0            30.0  \n",
       "2       11:00 AM  9 hours       8:00 PM     4.0  1000.0            20.0  \n",
       "3       10:00 AM  8 hours       6:00 PM     4.5  1200.0            30.0  \n",
       "4       10:00 AM  8 hours       6:00 PM     4.5  1200.0            30.0  \n",
       "5       11:00 AM  9 hours       8:00 PM     4.0  1000.0            25.0  \n",
       "6       10:00 AM  8 hours       6:00 PM     4.5  1200.0            30.0  \n",
       "7       11:00 AM  9 hours       8:00 PM     4.0  1000.0            25.0  \n",
       "8       10:00 AM       2h      12:00 PM     4.5   100.0            20.0  \n",
       "9       12:00 PM       3h       3:00 PM     4.2   150.0            15.0  \n",
       "10       2:00 PM       4h       6:00 PM     4.8   200.0            10.0  \n",
       "11         10:00        5         15:00     4.5   500.0            20.0  \n",
       "12         11:00        6         16:00     4.2   600.0            18.0  \n",
       "13         12:00        7         17:00     4.8   550.0            15.0  \n",
       "14         10:00        5         15:00     4.5   500.0            20.0  \n",
       "15         11:00        6         16:00     4.2   600.0            18.0  \n",
       "16         12:00        7         17:00     4.8   550.0            15.0  "
      ]
     },
     "execution_count": 184,
     "metadata": {},
     "output_type": "execute_result"
    }
   ],
   "source": [
    "Red_bus_df"
   ]
  },
  {
   "cell_type": "code",
   "execution_count": 185,
   "id": "f3b53d6a-b21f-49f6-8c4e-4cfe41673741",
   "metadata": {},
   "outputs": [
    {
     "name": "stdout",
     "output_type": "stream",
     "text": [
      "<class 'pandas.core.frame.DataFrame'>\n",
      "RangeIndex: 17 entries, 0 to 16\n",
      "Data columns (total 10 columns):\n",
      " #   Column          Non-Null Count  Dtype  \n",
      "---  ------          --------------  -----  \n",
      " 0   Route_name      17 non-null     object \n",
      " 1   Route_link      14 non-null     object \n",
      " 2   Bus_name        17 non-null     object \n",
      " 3   Bus_type        17 non-null     object \n",
      " 4   Depature_time   17 non-null     object \n",
      " 5   Duration        17 non-null     object \n",
      " 6   Reaching_time   17 non-null     object \n",
      " 7   Rating          17 non-null     float64\n",
      " 8   Price           17 non-null     float64\n",
      " 9   Seat_Available  17 non-null     float64\n",
      "dtypes: float64(3), object(7)\n",
      "memory usage: 1.5+ KB\n"
     ]
    }
   ],
   "source": [
    "Red_bus_df.info()"
   ]
  },
  {
   "cell_type": "code",
   "execution_count": 186,
   "id": "751f2d2d-42b1-448c-9e31-bc61f93508b2",
   "metadata": {},
   "outputs": [
    {
     "data": {
      "text/html": [
       "<div>\n",
       "<style scoped>\n",
       "    .dataframe tbody tr th:only-of-type {\n",
       "        vertical-align: middle;\n",
       "    }\n",
       "\n",
       "    .dataframe tbody tr th {\n",
       "        vertical-align: top;\n",
       "    }\n",
       "\n",
       "    .dataframe thead th {\n",
       "        text-align: right;\n",
       "    }\n",
       "</style>\n",
       "<table border=\"1\" class=\"dataframe\">\n",
       "  <thead>\n",
       "    <tr style=\"text-align: right;\">\n",
       "      <th></th>\n",
       "      <th>Route_name</th>\n",
       "      <th>Route_link</th>\n",
       "      <th>Bus_name</th>\n",
       "      <th>Bus_type</th>\n",
       "      <th>Depature_time</th>\n",
       "      <th>Duration</th>\n",
       "      <th>Reaching_time</th>\n",
       "      <th>Rating</th>\n",
       "      <th>Price</th>\n",
       "      <th>Seat_Available</th>\n",
       "    </tr>\n",
       "  </thead>\n",
       "  <tbody>\n",
       "  </tbody>\n",
       "</table>\n",
       "</div>"
      ],
      "text/plain": [
       "Empty DataFrame\n",
       "Columns: [Route_name, Route_link, Bus_name, Bus_type, Depature_time, Duration, Reaching_time, Rating, Price, Seat_Available]\n",
       "Index: []"
      ]
     },
     "execution_count": 186,
     "metadata": {},
     "output_type": "execute_result"
    }
   ],
   "source": [
    "Red_bus_df[Red_bus_df['Rating']=='New']"
   ]
  },
  {
   "cell_type": "code",
   "execution_count": 187,
   "id": "bb5ff36b-f29f-4ce3-acee-7da36591ec46",
   "metadata": {},
   "outputs": [
    {
     "name": "stderr",
     "output_type": "stream",
     "text": [
      "C:\\Users\\Dinesh K\\AppData\\Local\\Temp\\ipykernel_15660\\3877615751.py:3: FutureWarning: A value is trying to be set on a copy of a DataFrame or Series through chained assignment using an inplace method.\n",
      "The behavior will change in pandas 3.0. This inplace method will never work because the intermediate object on which we are setting values always behaves as a copy.\n",
      "\n",
      "For example, when doing 'df[col].method(value, inplace=True)', try using 'df.method({col: value}, inplace=True)' or df[col] = df[col].method(value) instead, to perform the operation inplace on the original object.\n",
      "\n",
      "\n",
      "  Red_bus_df['Rating'].fillna(rating_mean,inplace=True)\n"
     ]
    }
   ],
   "source": [
    "Red_bus_df['Rating'] = pd.to_numeric(Red_bus_df['Rating'],errors='coerce')\n",
    "rating_mean = round(Red_bus_df['Rating'].mean(),1)\n",
    "Red_bus_df['Rating'].fillna(rating_mean,inplace=True)\n",
    "Red_bus_df['Rating'] = Red_bus_df['Rating'].astype(float)"
   ]
  },
  {
   "cell_type": "code",
   "execution_count": 188,
   "id": "74a6db30-6ff2-4f19-ab53-3a94cde42920",
   "metadata": {},
   "outputs": [
    {
     "data": {
      "text/plain": [
       "Route_name         object\n",
       "Route_link         object\n",
       "Bus_name           object\n",
       "Bus_type           object\n",
       "Depature_time      object\n",
       "Duration           object\n",
       "Reaching_time      object\n",
       "Rating            float64\n",
       "Price             float64\n",
       "Seat_Available    float64\n",
       "dtype: object"
      ]
     },
     "execution_count": 188,
     "metadata": {},
     "output_type": "execute_result"
    }
   ],
   "source": [
    "Red_bus_df.dtypes"
   ]
  },
  {
   "cell_type": "code",
   "execution_count": 192,
   "id": "0188d83a-4f3b-487e-8e22-11d20f97ede0",
   "metadata": {},
   "outputs": [],
   "source": [
    "# Ensure the 'Seat_Available' column is of string type\n",
    "Red_bus_df['Seat_Available'] = Red_bus_df['Seat_Available'].astype(str)\n",
    "\n",
    "# Perform the string replacement\n",
    "Red_bus_df['Seat_Available'] = Red_bus_df['Seat_Available'].str.replace(r' Seats? available', '', regex=True)\n",
    "\n",
    "# Convert the column to float first (to handle decimal numbers) and then to integer\n",
    "Red_bus_df['Seat_Available'] = Red_bus_df['Seat_Available'].astype(float).astype(int)\n"
   ]
  },
  {
   "cell_type": "code",
   "execution_count": 193,
   "id": "c9739e63-6df9-4933-aaef-8fa6ba9d81f7",
   "metadata": {},
   "outputs": [
    {
     "data": {
      "text/plain": [
       "Route_name         object\n",
       "Route_link         object\n",
       "Bus_name           object\n",
       "Bus_type           object\n",
       "Depature_time      object\n",
       "Duration           object\n",
       "Reaching_time      object\n",
       "Rating            float64\n",
       "Price             float64\n",
       "Seat_Available      int32\n",
       "dtype: object"
      ]
     },
     "execution_count": 193,
     "metadata": {},
     "output_type": "execute_result"
    }
   ],
   "source": [
    "Red_bus_df.dtypes"
   ]
  },
  {
   "cell_type": "code",
   "execution_count": 2,
   "id": "52094a7b-462d-4b69-9b56-7c9c65e1e7ed",
   "metadata": {},
   "outputs": [
    {
     "name": "stdout",
     "output_type": "stream",
     "text": [
      "File not found!\n"
     ]
    }
   ],
   "source": [
    "import os\n",
    "\n",
    "file_path = \"C:/Users/nagar/Documents/Guvi Projects/Red_bus_project_files/Red_bus_df.csv\"\n",
    "if os.path.exists(file_path):\n",
    "    Red_bus_df = pd.read_csv(file_path, index_col=0)\n",
    "else:\n",
    "    print(\"File not found!\")\n"
   ]
  },
  {
   "cell_type": "code",
   "execution_count": null,
   "id": "84a7641b-4e7b-4645-a336-a3efd046e571",
   "metadata": {},
   "outputs": [],
   "source": [
    "Red_bus_df.to_csv('Red_bus_df.csv')"
   ]
  },
  {
   "cell_type": "code",
   "execution_count": null,
   "id": "275f7620-b82b-457f-b45d-acdf36689e12",
   "metadata": {},
   "outputs": [],
   "source": []
  }
 ],
 "metadata": {
  "kernelspec": {
   "display_name": "Python 3 (ipykernel)",
   "language": "python",
   "name": "python3"
  },
  "language_info": {
   "codemirror_mode": {
    "name": "ipython",
    "version": 3
   },
   "file_extension": ".py",
   "mimetype": "text/x-python",
   "name": "python",
   "nbconvert_exporter": "python",
   "pygments_lexer": "ipython3",
   "version": "3.12.4"
  }
 },
 "nbformat": 4,
 "nbformat_minor": 5
}
